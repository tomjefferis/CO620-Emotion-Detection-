{
 "cells": [
  {
   "cell_type": "markdown",
   "metadata": {
    "pycharm": {
     "name": "#%% md\n"
    }
   },
   "source": [
    "Introduction to ML on my dataset"
   ]
  },
  {
   "cell_type": "code",
   "execution_count": 1,
   "metadata": {
    "pycharm": {
     "name": "#%%\n"
    }
   },
   "outputs": [
    {
     "ename": "ModuleNotFoundError",
     "evalue": "No module named 'torch'",
     "output_type": "error",
     "traceback": [
      "\u001b[1;31m---------------------------------------------------------------------------\u001b[0m",
      "\u001b[1;31mModuleNotFoundError\u001b[0m                       Traceback (most recent call last)",
      "\u001b[1;32m<ipython-input-1-35d1454996b5>\u001b[0m in \u001b[0;36m<module>\u001b[1;34m\u001b[0m\n\u001b[0;32m     20\u001b[0m \u001b[1;32mfrom\u001b[0m \u001b[0msklearn\u001b[0m\u001b[1;33m.\u001b[0m\u001b[0mnaive_bayes\u001b[0m \u001b[1;32mimport\u001b[0m \u001b[0mGaussianNB\u001b[0m\u001b[1;33m\u001b[0m\u001b[1;33m\u001b[0m\u001b[0m\n\u001b[0;32m     21\u001b[0m \u001b[1;32mfrom\u001b[0m \u001b[0msklearn\u001b[0m\u001b[1;33m.\u001b[0m\u001b[0mdiscriminant_analysis\u001b[0m \u001b[1;32mimport\u001b[0m \u001b[0mQuadraticDiscriminantAnalysis\u001b[0m\u001b[1;33m,\u001b[0m \u001b[0mLinearDiscriminantAnalysis\u001b[0m\u001b[1;33m\u001b[0m\u001b[1;33m\u001b[0m\u001b[0m\n\u001b[1;32m---> 22\u001b[1;33m \u001b[1;32mimport\u001b[0m \u001b[0mtorch\u001b[0m\u001b[1;33m\u001b[0m\u001b[1;33m\u001b[0m\u001b[0m\n\u001b[0m",
      "\u001b[1;31mModuleNotFoundError\u001b[0m: No module named 'torch'"
     ]
    }
   ],
   "source": [
    "import numpy as np\n",
    "import pandas as pd\n",
    "import seaborn as sns\n",
    "import matplotlib.pyplot as plt\n",
    "from matplotlib import pyplot\n",
    "from matplotlib.colors import ListedColormap\n",
    "from sklearn.linear_model import LogisticRegression\n",
    "from sklearn.model_selection import train_test_split, StratifiedKFold, cross_val_score\n",
    "from sklearn.preprocessing import StandardScaler\n",
    "from sklearn.metrics import confusion_matrix, classification_report\n",
    "from sklearn.datasets import make_moons, make_circles, make_classification\n",
    "from sklearn.neural_network import MLPClassifier\n",
    "from sklearn.neighbors import KNeighborsClassifier\n",
    "from sklearn.svm import SVC\n",
    "from sklearn import svm\n",
    "from sklearn.gaussian_process import GaussianProcessClassifier\n",
    "from sklearn.gaussian_process.kernels import RBF\n",
    "from sklearn.tree import DecisionTreeClassifier\n",
    "from sklearn.ensemble import RandomForestClassifier, AdaBoostClassifier\n",
    "from sklearn.naive_bayes import GaussianNB\n",
    "from sklearn.discriminant_analysis import QuadraticDiscriminantAnalysis, LinearDiscriminantAnalysis\n",
    "import torch"
   ]
  },
  {
   "cell_type": "markdown",
   "metadata": {},
   "source": [
    "importing and reading the head of the files"
   ]
  },
  {
   "cell_type": "code",
   "execution_count": 19,
   "metadata": {
    "pycharm": {
     "name": "#%%\n"
    }
   },
   "outputs": [
    {
     "data": {
      "text/html": [
       "<div>\n",
       "<style scoped>\n",
       "    .dataframe tbody tr th:only-of-type {\n",
       "        vertical-align: middle;\n",
       "    }\n",
       "\n",
       "    .dataframe tbody tr th {\n",
       "        vertical-align: top;\n",
       "    }\n",
       "\n",
       "    .dataframe thead th {\n",
       "        text-align: right;\n",
       "    }\n",
       "</style>\n",
       "<table border=\"1\" class=\"dataframe\">\n",
       "  <thead>\n",
       "    <tr style=\"text-align: right;\">\n",
       "      <th></th>\n",
       "      <th>maxRR</th>\n",
       "      <th>minRR</th>\n",
       "      <th>meanRR</th>\n",
       "      <th>medianRR</th>\n",
       "      <th>mean</th>\n",
       "      <th>variance</th>\n",
       "      <th>standard deviation</th>\n",
       "      <th>number of peaks</th>\n",
       "      <th>number of valleys</th>\n",
       "      <th>max</th>\n",
       "      <th>min</th>\n",
       "      <th>ratio of peak to time</th>\n",
       "      <th>labels</th>\n",
       "    </tr>\n",
       "  </thead>\n",
       "  <tbody>\n",
       "    <tr>\n",
       "      <th>0</th>\n",
       "      <td>3.283373</td>\n",
       "      <td>-3.153124</td>\n",
       "      <td>-0.691292</td>\n",
       "      <td>-0.473422</td>\n",
       "      <td>-0.887344</td>\n",
       "      <td>-0.852428</td>\n",
       "      <td>-1.101827</td>\n",
       "      <td>-1.146055</td>\n",
       "      <td>-1.211860</td>\n",
       "      <td>-0.971536</td>\n",
       "      <td>0.473535</td>\n",
       "      <td>-1.240391</td>\n",
       "      <td>1</td>\n",
       "    </tr>\n",
       "    <tr>\n",
       "      <th>1</th>\n",
       "      <td>-0.530691</td>\n",
       "      <td>0.220757</td>\n",
       "      <td>-0.097092</td>\n",
       "      <td>-0.060457</td>\n",
       "      <td>1.728917</td>\n",
       "      <td>0.115263</td>\n",
       "      <td>0.413781</td>\n",
       "      <td>0.225144</td>\n",
       "      <td>0.150496</td>\n",
       "      <td>1.275972</td>\n",
       "      <td>1.869222</td>\n",
       "      <td>0.439346</td>\n",
       "      <td>0</td>\n",
       "    </tr>\n",
       "    <tr>\n",
       "      <th>2</th>\n",
       "      <td>-0.256929</td>\n",
       "      <td>0.437686</td>\n",
       "      <td>0.543713</td>\n",
       "      <td>0.614798</td>\n",
       "      <td>-0.219067</td>\n",
       "      <td>-0.241879</td>\n",
       "      <td>0.038038</td>\n",
       "      <td>0.613467</td>\n",
       "      <td>0.536314</td>\n",
       "      <td>-0.453982</td>\n",
       "      <td>-1.301779</td>\n",
       "      <td>1.602390</td>\n",
       "      <td>0</td>\n",
       "    </tr>\n",
       "    <tr>\n",
       "      <th>3</th>\n",
       "      <td>0.000886</td>\n",
       "      <td>0.828158</td>\n",
       "      <td>1.557349</td>\n",
       "      <td>1.368181</td>\n",
       "      <td>1.520551</td>\n",
       "      <td>0.954914</td>\n",
       "      <td>1.091541</td>\n",
       "      <td>0.643759</td>\n",
       "      <td>0.566410</td>\n",
       "      <td>1.668803</td>\n",
       "      <td>0.274025</td>\n",
       "      <td>0.478224</td>\n",
       "      <td>3</td>\n",
       "    </tr>\n",
       "    <tr>\n",
       "      <th>4</th>\n",
       "      <td>-0.153271</td>\n",
       "      <td>0.266695</td>\n",
       "      <td>0.508760</td>\n",
       "      <td>0.553411</td>\n",
       "      <td>-1.314357</td>\n",
       "      <td>-0.838620</td>\n",
       "      <td>-1.044152</td>\n",
       "      <td>-0.255806</td>\n",
       "      <td>-0.327352</td>\n",
       "      <td>-1.237303</td>\n",
       "      <td>-0.186352</td>\n",
       "      <td>-0.860474</td>\n",
       "      <td>1</td>\n",
       "    </tr>\n",
       "  </tbody>\n",
       "</table>\n",
       "</div>"
      ],
      "text/plain": [
       "      maxRR     minRR    meanRR  medianRR      mean  variance  \\\n",
       "0  3.283373 -3.153124 -0.691292 -0.473422 -0.887344 -0.852428   \n",
       "1 -0.530691  0.220757 -0.097092 -0.060457  1.728917  0.115263   \n",
       "2 -0.256929  0.437686  0.543713  0.614798 -0.219067 -0.241879   \n",
       "3  0.000886  0.828158  1.557349  1.368181  1.520551  0.954914   \n",
       "4 -0.153271  0.266695  0.508760  0.553411 -1.314357 -0.838620   \n",
       "\n",
       "   standard deviation  number of peaks  number of valleys       max       min  \\\n",
       "0           -1.101827        -1.146055          -1.211860 -0.971536  0.473535   \n",
       "1            0.413781         0.225144           0.150496  1.275972  1.869222   \n",
       "2            0.038038         0.613467           0.536314 -0.453982 -1.301779   \n",
       "3            1.091541         0.643759           0.566410  1.668803  0.274025   \n",
       "4           -1.044152        -0.255806          -0.327352 -1.237303 -0.186352   \n",
       "\n",
       "   ratio of peak to time  labels  \n",
       "0              -1.240391       1  \n",
       "1               0.439346       0  \n",
       "2               1.602390       0  \n",
       "3               0.478224       3  \n",
       "4              -0.860474       1  "
      ]
     },
     "execution_count": 19,
     "metadata": {},
     "output_type": "execute_result"
    }
   ],
   "source": [
    "ecg = pd.read_csv('ecg.csv')\n",
    "gsr = pd.read_csv('gsr.csv')\n",
    "labels = pd.read_csv('labels.csv')\n",
    "\n",
    "#removing unnecessary columns from data and concatenating into one dataset\n",
    "\n",
    "gsr.drop(['gfgb'], axis=1,inplace=True)\n",
    "ecg = ecg[['maxRR','minRR','meanRR','medianRR']]\n",
    "\n",
    "dataset = pd.concat([ecg,gsr,labels], axis=1, join='inner').sort_index()\n",
    "dataset.dropna()\n",
    "dataset.head()\n"
   ]
  },
  {
   "cell_type": "markdown",
   "metadata": {},
   "source": [
    "Looking at the ecg plots"
   ]
  },
  {
   "cell_type": "code",
   "execution_count": 20,
   "metadata": {
    "pycharm": {
     "name": "#%%\n"
    }
   },
   "outputs": [
    {
     "data": {
      "image/png": "[encoded data removed]",
      "text/plain": [
       "<Figure size 432x288 with 21 Axes>"
      ]
     },
     "metadata": {
      "needs_background": "light"
     },
     "output_type": "display_data"
    }
   ],
   "source": [
    "ecg.plot(kind='box', subplots=True, layout=(3,7), sharex=False, sharey=False)\n",
    "pyplot.show()"
   ]
  },
  {
   "cell_type": "markdown",
   "metadata": {},
   "source": [
    "Looking at the gsr plots"
   ]
  },
  {
   "cell_type": "code",
   "execution_count": 21,
   "metadata": {
    "pycharm": {
     "name": "#%%\n"
    }
   },
   "outputs": [
    {
     "data": {
      "image/png": "[encoded data removed]",
      "text/plain": [
       "<Figure size 432x288 with 21 Axes>"
      ]
     },
     "metadata": {
      "needs_background": "light"
     },
     "output_type": "display_data"
    }
   ],
   "source": [
    "gsr.plot(kind='box', subplots=True, layout=(3,7), sharex=False, sharey=False)\n",
    "pyplot.show()"
   ]
  },
  {
   "cell_type": "markdown",
   "metadata": {},
   "source": [
    "Now looking for dataset"
   ]
  },
  {
   "cell_type": "code",
   "execution_count": 22,
   "metadata": {
    "pycharm": {
     "name": "#%%\n"
    }
   },
   "outputs": [],
   "source": [
    "X = dataset.drop('labels', axis=1)\n",
    "y = dataset['labels']"
   ]
  },
  {
   "cell_type": "markdown",
   "metadata": {},
   "source": [
    "Train and test splitting data"
   ]
  },
  {
   "cell_type": "code",
   "execution_count": 23,
   "metadata": {
    "pycharm": {
     "name": "#%%\n"
    }
   },
   "outputs": [],
   "source": [
    "X_train, X_test, y_train, y_test = train_test_split(X,y, test_size=0.3, random_state=42)\n",
    "\n",
    "#scaling the data\n",
    "#sc = StandardScaler()\n",
    "#X_train = sc.fit_transform(X_train)\n",
    "#X_test = sc.transform(X_test)\n",
    "#found that scaling has little to no effect, some instances decreases accuracy"
   ]
  },
  {
   "cell_type": "markdown",
   "metadata": {},
   "source": [
    "Random Forest"
   ]
  },
  {
   "cell_type": "code",
   "execution_count": 24,
   "metadata": {
    "pycharm": {
     "name": "#%%\n"
    }
   },
   "outputs": [
    {
     "name": "stdout",
     "output_type": "stream",
     "text": [
      "              precision    recall  f1-score   support\n",
      "\n",
      "           0       0.60      0.57      0.59        21\n",
      "           1       0.58      0.68      0.62        28\n",
      "           2       0.50      0.40      0.44        25\n",
      "           3       0.67      0.70      0.68        20\n",
      "\n",
      "    accuracy                           0.59        94\n",
      "   macro avg       0.59      0.59      0.58        94\n",
      "weighted avg       0.58      0.59      0.58        94\n",
      "\n"
     ]
    }
   ],
   "source": [
    "#Random Forest\n",
    "rfc = RandomForestClassifier(n_estimators=5000)\n",
    "rfc.fit(X_train,y_train)\n",
    "pred_rfc = rfc.predict(X_test)\n",
    "print(classification_report(y_test, pred_rfc))"
   ]
  },
  {
   "cell_type": "markdown",
   "metadata": {},
   "source": [
    "SVM"
   ]
  },
  {
   "cell_type": "code",
   "execution_count": 25,
   "metadata": {
    "pycharm": {
     "name": "#%%\n"
    }
   },
   "outputs": [
    {
     "name": "stdout",
     "output_type": "stream",
     "text": [
      "              precision    recall  f1-score   support\n",
      "\n",
      "           0       0.52      0.52      0.52        21\n",
      "           1       0.65      0.86      0.74        28\n",
      "           2       0.71      0.48      0.57        25\n",
      "           3       0.74      0.70      0.72        20\n",
      "\n",
      "    accuracy                           0.65        94\n",
      "   macro avg       0.65      0.64      0.64        94\n",
      "weighted avg       0.65      0.65      0.64        94\n",
      "\n"
     ]
    }
   ],
   "source": [
    "clf = svm.SVC()\n",
    "clf.fit(X_train,y_train)\n",
    "pred_clf = clf.predict(X_test)\n",
    "print(classification_report(y_test, pred_clf))\n"
   ]
  }
 ],
 "metadata": {
  "kernelspec": {
   "display_name": "PyCharm (Python On Dataset)",
   "language": "python",
   "name": "pycharm-3d615333"
  },
  "language_info": {
   "codemirror_mode": {
    "name": "ipython",
    "version": 3
   },
   "file_extension": ".py",
   "mimetype": "text/x-python",
   "name": "python",
   "nbconvert_exporter": "python",
   "pygments_lexer": "ipython3",
   "version": "3.8.5"
  }
 },
 "nbformat": 4,
 "nbformat_minor": 1
}
