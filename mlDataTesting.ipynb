{
 "cells": [
  {
   "cell_type": "markdown",
   "metadata": {
    "pycharm": {
     "name": "#%% md\n"
    }
   },
   "source": [
    "Introduction to ML on my dataset"
   ]
  },
  {
   "cell_type": "code",
   "execution_count": 1,
   "metadata": {
    "pycharm": {
     "name": "#%%\n"
    }
   },
   "outputs": [
    {
     "name": "stdout",
     "output_type": "stream",
     "text": [
      "Thank you for using Pysiology. If you use it in your work, please cite:\n",
      "Gabrieli G., Azhari A., Esposito G. (2020) PySiology: A Python Package for Physiological Feature Extraction. In: Esposito A., Faundez-Zanuy M., Morabito F., Pasero E. (eds) Neural Approaches to Dynamics of Signal Exchanges. Smart Innovation, Systems and Technologies, vol 151. Springer, Singapore\n"
     ]
    }
   ],
   "source": [
    "import csv\n",
    "import math\n",
    "from collections import Counter\n",
    "import pysiology as pyd\n",
    "import pandas as pd\n",
    "import pysiology as pysiology\n",
    "from matplotlib import pyplot\n",
    "from pandas import DataFrame\n",
    "from sklearn.model_selection import cross_val_predict\n",
    "from sklearn.metrics import classification_report\n",
    "from sklearn import svm, preprocessing\n",
    "from sklearn.ensemble import RandomForestClassifier\n",
    "import  neurokit as nk\n",
    "import neurokit2 as nk2\n",
    "import matplotlib.pyplot as plt\n",
    "import statistics\n",
    "import heartpy as hp\n",
    "import numpy as np\n",
    "import scipy as sci"
   ]
  },
  {
   "cell_type": "markdown",
   "metadata": {},
   "source": [
    "importing and reading the head of the processed data given by Ryan"
   ]
  },
  {
   "cell_type": "code",
   "execution_count": 2,
   "metadata": {
    "pycharm": {
     "name": "#%%\n"
    }
   },
   "outputs": [
    {
     "data": {
      "text/plain": "      maxRR     minRR    meanRR  medianRR      mean  variance  \\\n0  3.283373 -3.153124 -0.691292 -0.473422 -0.887344 -0.852428   \n1 -0.530691  0.220757 -0.097092 -0.060457  1.728917  0.115263   \n2 -0.256929  0.437686  0.543713  0.614798 -0.219067 -0.241879   \n3  0.000886  0.828158  1.557349  1.368181  1.520551  0.954914   \n4 -0.153271  0.266695  0.508760  0.553411 -1.314357 -0.838620   \n\n   standard deviation  number of peaks  number of valleys       max       min  \\\n0           -1.101827        -1.146055          -1.211860 -0.971536  0.473535   \n1            0.413781         0.225144           0.150496  1.275972  1.869222   \n2            0.038038         0.613467           0.536314 -0.453982 -1.301779   \n3            1.091541         0.643759           0.566410  1.668803  0.274025   \n4           -1.044152        -0.255806          -0.327352 -1.237303 -0.186352   \n\n   ratio of peak to time  labels  \n0              -1.240391       1  \n1               0.439346       0  \n2               1.602390       0  \n3               0.478224       3  \n4              -0.860474       1  ",
      "text/html": "<div>\n<style scoped>\n    .dataframe tbody tr th:only-of-type {\n        vertical-align: middle;\n    }\n\n    .dataframe tbody tr th {\n        vertical-align: top;\n    }\n\n    .dataframe thead th {\n        text-align: right;\n    }\n</style>\n<table border=\"1\" class=\"dataframe\">\n  <thead>\n    <tr style=\"text-align: right;\">\n      <th></th>\n      <th>maxRR</th>\n      <th>minRR</th>\n      <th>meanRR</th>\n      <th>medianRR</th>\n      <th>mean</th>\n      <th>variance</th>\n      <th>standard deviation</th>\n      <th>number of peaks</th>\n      <th>number of valleys</th>\n      <th>max</th>\n      <th>min</th>\n      <th>ratio of peak to time</th>\n      <th>labels</th>\n    </tr>\n  </thead>\n  <tbody>\n    <tr>\n      <th>0</th>\n      <td>3.283373</td>\n      <td>-3.153124</td>\n      <td>-0.691292</td>\n      <td>-0.473422</td>\n      <td>-0.887344</td>\n      <td>-0.852428</td>\n      <td>-1.101827</td>\n      <td>-1.146055</td>\n      <td>-1.211860</td>\n      <td>-0.971536</td>\n      <td>0.473535</td>\n      <td>-1.240391</td>\n      <td>1</td>\n    </tr>\n    <tr>\n      <th>1</th>\n      <td>-0.530691</td>\n      <td>0.220757</td>\n      <td>-0.097092</td>\n      <td>-0.060457</td>\n      <td>1.728917</td>\n      <td>0.115263</td>\n      <td>0.413781</td>\n      <td>0.225144</td>\n      <td>0.150496</td>\n      <td>1.275972</td>\n      <td>1.869222</td>\n      <td>0.439346</td>\n      <td>0</td>\n    </tr>\n    <tr>\n      <th>2</th>\n      <td>-0.256929</td>\n      <td>0.437686</td>\n      <td>0.543713</td>\n      <td>0.614798</td>\n      <td>-0.219067</td>\n      <td>-0.241879</td>\n      <td>0.038038</td>\n      <td>0.613467</td>\n      <td>0.536314</td>\n      <td>-0.453982</td>\n      <td>-1.301779</td>\n      <td>1.602390</td>\n      <td>0</td>\n    </tr>\n    <tr>\n      <th>3</th>\n      <td>0.000886</td>\n      <td>0.828158</td>\n      <td>1.557349</td>\n      <td>1.368181</td>\n      <td>1.520551</td>\n      <td>0.954914</td>\n      <td>1.091541</td>\n      <td>0.643759</td>\n      <td>0.566410</td>\n      <td>1.668803</td>\n      <td>0.274025</td>\n      <td>0.478224</td>\n      <td>3</td>\n    </tr>\n    <tr>\n      <th>4</th>\n      <td>-0.153271</td>\n      <td>0.266695</td>\n      <td>0.508760</td>\n      <td>0.553411</td>\n      <td>-1.314357</td>\n      <td>-0.838620</td>\n      <td>-1.044152</td>\n      <td>-0.255806</td>\n      <td>-0.327352</td>\n      <td>-1.237303</td>\n      <td>-0.186352</td>\n      <td>-0.860474</td>\n      <td>1</td>\n    </tr>\n  </tbody>\n</table>\n</div>"
     },
     "execution_count": 2,
     "metadata": {},
     "output_type": "execute_result"
    }
   ],
   "source": [
    "ecg = pd.read_csv('./given_data/ecg.csv')\n",
    "gsr = pd.read_csv('./given_data/gsr.csv')\n",
    "labels = pd.read_csv('./given_data/labels.csv')\n",
    "\n",
    "#removing unnecessary columns from data and concatenating into one dataset\n",
    "\n",
    "gsr.drop(['gfgb'], axis=1,inplace=True)\n",
    "ecg = ecg[['maxRR','minRR','meanRR','medianRR']]\n",
    "\n",
    "dataset = pd.concat([ecg,gsr,labels], axis=1, join='inner').sort_index()\n",
    "dataset.dropna()\n",
    "dataset.head()\n"
   ]
  },
  {
   "cell_type": "markdown",
   "metadata": {},
   "source": [
    "Looking at the ecg plots"
   ]
  },
  {
   "cell_type": "code",
   "execution_count": 3,
   "metadata": {
    "pycharm": {
     "name": "#%%\n"
    }
   },
   "outputs": [
    {
     "data": {
      "text/plain": "<Figure size 432x288 with 21 Axes>",
      "image/png": "[encoded data removed]"
     },
     "metadata": {
      "needs_background": "light"
     },
     "output_type": "display_data"
    }
   ],
   "source": [
    "ecg.plot(kind='box', subplots=True, layout=(3,7), sharex=False, sharey=False)\n",
    "pyplot.show()"
   ]
  },
  {
   "cell_type": "markdown",
   "metadata": {},
   "source": [
    "Looking at the gsr plots"
   ]
  },
  {
   "cell_type": "code",
   "execution_count": 4,
   "metadata": {
    "pycharm": {
     "name": "#%%\n"
    }
   },
   "outputs": [
    {
     "data": {
      "text/plain": "<Figure size 432x288 with 21 Axes>",
      "image/png": "[encoded data removed]"
     },
     "metadata": {
      "needs_background": "light"
     },
     "output_type": "display_data"
    }
   ],
   "source": [
    "gsr.plot(kind='box', subplots=True, layout=(3,7), sharex=False, sharey=False)\n",
    "pyplot.show()"
   ]
  },
  {
   "cell_type": "markdown",
   "metadata": {},
   "source": [
    "Now looking for dataset"
   ]
  },
  {
   "cell_type": "code",
   "execution_count": 5,
   "metadata": {
    "pycharm": {
     "name": "#%%\n"
    }
   },
   "outputs": [],
   "source": [
    "X = dataset.drop('labels', axis=1)\n",
    "y = dataset['labels']"
   ]
  },
  {
   "cell_type": "markdown",
   "metadata": {},
   "source": [
    "Random Forest"
   ]
  },
  {
   "cell_type": "code",
   "execution_count": 6,
   "metadata": {
    "pycharm": {
     "name": "#%%\n"
    }
   },
   "outputs": [
    {
     "name": "stdout",
     "output_type": "stream",
     "text": [
      "              precision    recall  f1-score   support\n",
      "\n",
      "           0       0.56      0.62      0.59        78\n",
      "           1       0.60      0.69      0.64        78\n",
      "           2       0.60      0.46      0.52        78\n",
      "           3       0.75      0.73      0.74        78\n",
      "\n",
      "    accuracy                           0.62       312\n",
      "   macro avg       0.63      0.62      0.62       312\n",
      "weighted avg       0.63      0.62      0.62       312\n",
      "\n"
     ]
    }
   ],
   "source": [
    "rfc = RandomForestClassifier(n_estimators=500)\n",
    "y_pred = cross_val_predict(rfc, X,y, cv=10)\n",
    "print(classification_report(y, y_pred))\n",
    "\n"
   ]
  },
  {
   "cell_type": "markdown",
   "source": [
    "SVM"
   ],
   "metadata": {
    "collapsed": false
   }
  },
  {
   "cell_type": "code",
   "execution_count": 7,
   "metadata": {
    "pycharm": {
     "name": "#%%\n"
    }
   },
   "outputs": [
    {
     "name": "stdout",
     "output_type": "stream",
     "text": [
      "              precision    recall  f1-score   support\n",
      "\n",
      "           0       0.48      0.50      0.49        78\n",
      "           1       0.53      0.58      0.55        78\n",
      "           2       0.46      0.47      0.47        78\n",
      "           3       0.75      0.63      0.69        78\n",
      "\n",
      "    accuracy                           0.54       312\n",
      "   macro avg       0.56      0.54      0.55       312\n",
      "weighted avg       0.56      0.54      0.55       312\n",
      "\n"
     ]
    }
   ],
   "source": [
    "clf = svm.SVC()\n",
    "y_pred = cross_val_predict(clf, X,y, cv=10)\n",
    "print(classification_report(y, y_pred))\n"
   ]
  },
  {
   "cell_type": "markdown",
   "source": [
    "Now doing both Random Forest and SVM but now with the eye tracking data provided"
   ],
   "metadata": {
    "collapsed": false
   }
  },
  {
   "cell_type": "code",
   "execution_count": 36,
   "outputs": [
    {
     "name": "stdout",
     "output_type": "stream",
     "text": [
      "SVM classification report\n",
      "              precision    recall  f1-score   support\n",
      "\n",
      "           0       0.73      0.69      0.71        78\n",
      "           1       0.71      0.77      0.74        78\n",
      "           2       0.71      0.73      0.72        78\n",
      "           3       0.78      0.74      0.76        78\n",
      "\n",
      "    accuracy                           0.73       312\n",
      "   macro avg       0.74      0.73      0.73       312\n",
      "weighted avg       0.74      0.73      0.73       312\n",
      "\n",
      "Random Forest classification report\n",
      "              precision    recall  f1-score   support\n",
      "\n",
      "           0       0.80      0.72      0.76        78\n",
      "           1       0.74      0.78      0.76        78\n",
      "           2       0.71      0.72      0.71        78\n",
      "           3       0.79      0.82      0.81        78\n",
      "\n",
      "    accuracy                           0.76       312\n",
      "   macro avg       0.76      0.76      0.76       312\n",
      "weighted avg       0.76      0.76      0.76       312\n",
      "\n"
     ]
    }
   ],
   "source": [
    "ecg = pd.read_csv('./given_data/ecg.csv')\n",
    "gsr = pd.read_csv('./given_data/gsr.csv')\n",
    "labels = pd.read_csv('./given_data/labels.csv')\n",
    "\n",
    "#removing unnecessary columns from data and concatenating into one dataset\n",
    "\n",
    "gsr.drop(['gfgb'], axis=1,inplace=True)\n",
    "ecg = ecg[['maxRR','minRR','meanRR','medianRR']]\n",
    "eyes = pd.read_csv('./given_data/eye.csv')\n",
    "dataset = pd.concat([ecg,gsr,eyes,labels], axis=1, join='inner').sort_index()\n",
    "dataset.dropna()\n",
    "X = dataset.drop('labels', axis=1)\n",
    "y = dataset['labels']\n",
    "\n",
    "\n",
    "clf = svm.SVC()\n",
    "y_pred = cross_val_predict(clf, X,y, cv=10)\n",
    "print(\"SVM classification report\")\n",
    "print(classification_report(y, y_pred))\n",
    "\n",
    "rfc = RandomForestClassifier(n_estimators=1000)\n",
    "y_pred = cross_val_predict(rfc, X,y, cv=10)\n",
    "print(\"Random Forest classification report\")\n",
    "print(classification_report(y, y_pred))\n"
   ],
   "metadata": {
    "collapsed": false,
    "pycharm": {
     "name": "#%%\n"
    }
   }
  },
  {
   "source": [
    "Now importing classes to process own raw data\n"
   ],
   "cell_type": "markdown",
   "metadata": {
    "collapsed": false,
    "pycharm": {
     "name": "#%% md\n"
    }
   }
  },
  {
   "cell_type": "code",
   "execution_count": 4,
   "metadata": {},
   "outputs": [
    {
     "name": "stdout",
     "output_type": "stream",
     "text": [
      "Completed:312 lables, 312 ECG inputs, 312 GSR inputs\n"
     ]
    }
   ],
   "source": [
    "import pickle \n",
    "import os\n",
    "from os import listdir\n",
    "\n",
    "data = []\n",
    "# Getting all the files in the data directory\n",
    "files = os.listdir(\"./raw_data/ecg-gsr-labels/\")\n",
    "removed = ['101_PreProcessed_GSR_ECG.dat', '102_PreProcessed_GSR_ECG.dat', '103_PreProcessed_GSR_ECG.dat', '115_PreProcessed_GSR_ECG.dat', '118_PreProcessed_GSR_ECG.dat', '121_PreProcessed_GSR_ECG.dat', '119_PreProcessed_GSR_ECG.dat', '130_PreProcessed_GSR_ECG.dat']\n",
    "\n",
    "for item in removed:\n",
    "    files.remove(item)\n",
    "\n",
    "for i in range(len(files)):\n",
    "    infile = open(\"./raw_data/ecg-gsr-labels/\" + files[i],'rb')\n",
    "    data.append(pickle.load(infile))\n",
    "    infile.close()\n",
    "\n",
    "# Extracting all data (labels, ecg and gsr data) into seperate arrays.\n",
    "\n",
    "completeLabels = []\n",
    "completeEcg = []\n",
    "completeGsr = []\n",
    "\n",
    "# Iterate over all files\n",
    "for i in range(len(data)):\n",
    "    del data[i]['Data'][0]\n",
    "    del data[i]['Labels'][0]\n",
    "    features = data[i]['Data']\n",
    "    labels = data[i]['Labels']\n",
    "    #Iterate over all examples in file\n",
    "    for x in range(len(labels)):\n",
    "        completeLabels.append(labels[x])\n",
    "        completeEcg.append(features[x][:][:,1])\n",
    "        completeGsr.append(features[x][:][:,0])\n",
    "\n",
    "\n",
    "labelslen = len(completeLabels)\n",
    "ecglen = len(completeEcg)\n",
    "gsrlen = len(completeGsr)\n",
    "print(f\"Completed:{labelslen} lables, {ecglen} ECG inputs, {gsrlen} GSR inputs\")"
   ]
  },
  {
   "cell_type": "markdown",
   "metadata": {
    "pycharm": {
     "name": "#%% md\n"
    }
   },
   "source": [
    "Using NeuroKit to extract data points\n"
   ]
  },
  {
   "cell_type": "code",
   "execution_count": 15,
   "outputs": [
    {
     "name": "stdout",
     "output_type": "stream",
     "text": [
      "   ECG_Rate_Mean  HRV_RMSSD   HRV_MeanNN    HRV_SDNN   HRV_SDSD  HRV_CVNN  \\\n",
      "0      38.822023  43.722541  1545.630631  113.994596  43.801921  0.073753   \n",
      "\n",
      "   HRV_CVSD  HRV_MedianNN  HRV_MadNN  HRV_MCVNN  ...   HRV_C2d   HRV_C2a  \\\n",
      "0  0.028288        1571.5   108.2298    0.06887  ...  0.512351  0.487649   \n",
      "\n",
      "     HRV_SD2d   HRV_SD2a    HRV_Cd    HRV_Ca  HRV_SDNNd  HRV_SDNNa  HRV_ApEn  \\\n",
      "0  113.061287  110.30202  0.511176  0.488824  81.376768  79.577661  0.941039   \n",
      "\n",
      "   HRV_SampEn  \n",
      "0    1.215072  \n",
      "\n",
      "[1 rows x 53 columns]\n"
     ]
    },
    {
     "data": {
      "text/plain": "<Figure size 1080x648 with 3 Axes>",
      "image/png": "[encoded data removed]"
     },
     "metadata": {
      "needs_background": "light"
     },
     "output_type": "display_data"
    }
   ],
   "source": [
    "plt.rcParams['figure.figsize'] = [15, 9]  # Bigger images\n",
    "plt.rcParams['font.size']= 13\n",
    "\n",
    "\n",
    "arr = completeEcg[5]\n",
    "samplerate = 1000\n",
    "\n",
    "sig = hp.filter_signal(arr, 10, samplerate)#filter the signal with a cutoff at 2.5Hz and a 5th order Butterworth filter\n",
    "ecg_signals, info = nk2.ecg_process(sig, sampling_rate=1000)\n",
    "plot = nk2.ecg_plot(ecg_signals[:15000], sampling_rate=1000)\n",
    "     #extracts processes the raw ecg signals\n",
    "compecgdata = nk2.ecg_intervalrelated(ecg_signals, sampling_rate=1000)# makes a dataframe of analyzed ECG features\n",
    "print(compecgdata)\n",
    "    # Process the signal using previously defined function\n",
    "    #plot = nk.ecg_plot(processed_ecg[:30000], sampling_rate=1000)\n",
    "    #print(compecgdata)\n",
    "    # Visualize\n",
    "    #plot = nk.ecg_plot(compecgdata)\n"
   ],
   "metadata": {
    "collapsed": false,
    "pycharm": {
     "name": "#%%\n"
    }
   }
  },
  {
   "cell_type": "code",
   "execution_count": 5,
   "outputs": [
    {
     "name": "stdout",
     "output_type": "stream",
     "text": [
      "started GSR extraction\n",
      "Completed GSR extraction\n"
     ]
    },
    {
     "name": "stderr",
     "output_type": "stream",
     "text": [
      "C:\\Users\\tomje\\AppData\\Local\\Programs\\Python\\Python39\\lib\\site-packages\\neurokit2\\eda\\eda_peaks.py:114: RuntimeWarning: All-NaN slice encountered\n",
      "  info[\"SCR_Peaks\"] > np.nanmin(info[\"SCR_Onsets\"]), ~np.isnan(info[\"SCR_Onsets\"])\n"
     ]
    }
   ],
   "source": [
    "plt.rcParams['figure.figsize'] = [15, 9]  # Bigger images\n",
    "plt.rcParams['font.size']= 13\n",
    "\n",
    "def nkExtractECG(signal,samplerate):\n",
    "    cleaned = nk2.ecg_clean(signal,sampling_rate=samplerate)\n",
    "    processed, info = nk2.ecg_process(cleaned,sampling_rate=samplerate)\n",
    "    compECG = nk2.ecg_intervalrelated(processed)\n",
    "    return compECG\n",
    "\n",
    "def extractECGfeatures(samplerate):\n",
    "    print(\"started ECG extraction\")\n",
    "    # Preprocess the data (filter, find peaks, etc.)\n",
    "    completeFrame = pd.DataFrame([])\n",
    "\n",
    "    for index, ecg in enumerate(completeEcg): #loops through all 398 data items from the extracted items\n",
    "\n",
    "        tems = nkExtractECG(ecg,samplerate)\n",
    "        #temp = pd.DataFrame([tems])\n",
    "        completeFrame = pd.concat([completeFrame,tems])\n",
    "    #completeFrame.drop(completeFrame.columns[0], axis=1,inplace=True) #removes first empty column\n",
    "    completeFrame.to_csv('processed_data/ecgNK.csv')\n",
    "    print(\"Completed ECG extraction\")\n",
    "\n",
    "\n",
    "def extractGSR(signal,samplerate):\n",
    "    signal = hp.filter_signal(signal, 0.1, 1000)\n",
    "    processed_gsr,infos = nk2.eda_process(signal,sampling_rate=samplerate) #processes the GSR, currently only doing one item to make sure it works properly\n",
    "    #plot = nk2.eda_plot(processed_gsr[:30000], sampling_rate=1000) #plots the signal on a graph\n",
    "\n",
    "    gsr_dict = nk2.eda_findpeaks(processed_gsr)#finding peaks, time of the peaks and magnitude of peaks\n",
    "\n",
    "    numpeakssci = len(sci.signal.find_peaks(signal)[0])/len(signal)\n",
    "    numvalleys = len(sci.signal.find_peaks(signal*(-1))[0])/len(signal)\n",
    "\n",
    "    peaktime = gsr_dict['SCR_Peaks'] #time of peaks\n",
    "    numpeaks = len(peaktime)/len(signal) #number of peaks\n",
    "    timebetween = []\n",
    "    lastPeak = 0\n",
    "    for peaks in peaktime: # going through all the peaks in the exrtacted data\n",
    "        if lastPeak != 0:\n",
    "            timebetween.append(peaks-lastPeak) #finding the time between the peaks\n",
    "        else:\n",
    "            lastPeak = peaks\n",
    "\n",
    "    if len(timebetween) >= 1:\n",
    "        meantbpeaks = statistics.mean(timebetween) #mean time between peaks\n",
    "        mediantbpeaks = statistics.median(timebetween) # median time between peaks\n",
    "        meanheightpeaks = statistics.mean(gsr_dict['SCR_Height']) #mean magnitide of peaks\n",
    "        medianheightpeaks = statistics.median(gsr_dict['SCR_Height']) #median magnitide of peaks\n",
    "        varheightpeaks = statistics.variance(gsr_dict['SCR_Height']) #variance magnitide of peaks\n",
    "    elif len(gsr_dict['SCR_Height']) >= 1:\n",
    "        meantbpeaks = 0 #mean time between peaks\n",
    "        mediantbpeaks = 0 # median time between peaks\n",
    "        meanheightpeaks = statistics.mean(gsr_dict['SCR_Height']) #mean magnitide of peaks\n",
    "        medianheightpeaks = statistics.median(gsr_dict['SCR_Height']) #median magnitide of peaks\n",
    "        if len(gsr_dict['SCR_Height']) >= 2:\n",
    "            varheightpeaks = statistics.variance(gsr_dict['SCR_Height']) #variance magnitide of peaks\n",
    "        else:\n",
    "            varheightpeaks = 0\n",
    "    else:\n",
    "        meantbpeaks = 0 #mean time between peaks\n",
    "        mediantbpeaks = 0 # median time between peaks\n",
    "        meanheightpeaks = 0 #mean magnitide of peaks\n",
    "        medianheightpeaks = 0 #median magnitide of peaks\n",
    "        varheightpeaks = 0 #variance magnitide of peaks\n",
    "\n",
    "    maxGSR = max(signal)\n",
    "    minGSR = min(signal)\n",
    "    meanGSR = statistics.mean(signal)\n",
    "    peakratio = 0\n",
    "    if numpeaks>0: peakratio = numpeaks/len(signal)\n",
    "    valleyratio =0\n",
    "    if numvalleys>0: valleyratio = numvalleys/len(signal)\n",
    "\n",
    "    d = {'max GSR': maxGSR,\n",
    "         'min GSR': minGSR,\n",
    "         'mean GSR': meanGSR,\n",
    "         'number of peaks':numpeaks,\n",
    "         'number of peaks SCIPY': numpeakssci,\n",
    "         'number of valleys': numvalleys,\n",
    "         'mean time between peaks':meantbpeaks,\n",
    "         'median time between peaks':mediantbpeaks,\n",
    "         'mean height of peaks': meanheightpeaks,\n",
    "         'median height of peaks': medianheightpeaks,\n",
    "         'variance height of peaks': varheightpeaks,\n",
    "         'ratio of peaks': peakratio,\n",
    "         'ratio of valleys': valleyratio}\n",
    "    #adding to dataframe to be stored as csv later\n",
    "    return pd.DataFrame([d])\n",
    "\n",
    "def extractGSRfeatures(samplerate):\n",
    "    print(\"started GSR extraction\")\n",
    "     # Preprocess the data (filter, find peaks, etc.)\n",
    "    completeFrame = pd.DataFrame([])\n",
    "\n",
    "    for index, gsr in enumerate(completeGsr): #loops through all 398 data items from the extracted items\n",
    "\n",
    "        temp = extractGSR(gsr,samplerate)\n",
    "        completeFrame = pd.concat([completeFrame,temp])\n",
    "    #completeFrame.drop(completeFrame.columns[0], axis=1,inplace=True) #removes first empty column\n",
    "    completeFrame.to_csv('processed_data/gsrNK.csv')\n",
    "    print(\"Completed GSR extraction\")\n",
    "\n",
    "\n",
    "\n",
    "\n",
    "\n",
    "samplerate = 1000\n",
    "extractGSRfeatures(samplerate)\n",
    "#extractECGfeatures(samplerate)"
   ],
   "metadata": {
    "collapsed": false,
    "pycharm": {
     "name": "#%%\n"
    }
   }
  },
  {
   "cell_type": "markdown",
   "source": [
    "Using ScikitLearn to process my data into a single dataset"
   ],
   "metadata": {
    "collapsed": false,
    "pycharm": {
     "name": "#%% md\n"
    }
   }
  },
  {
   "cell_type": "code",
   "execution_count": 2,
   "outputs": [
    {
     "name": "stdout",
     "output_type": "stream",
     "text": [
      "0    78\n",
      "1    78\n",
      "2    78\n",
      "3    78\n",
      "Name: labels, dtype: int64\n",
      "SVM classification report\n",
      "              precision    recall  f1-score   support\n",
      "\n",
      "           0       0.74      0.69      0.72        78\n",
      "           1       0.69      0.79      0.74        78\n",
      "           2       0.67      0.62      0.64        78\n",
      "           3       0.79      0.78      0.79        78\n",
      "\n",
      "    accuracy                           0.72       312\n",
      "   macro avg       0.72      0.72      0.72       312\n",
      "weighted avg       0.72      0.72      0.72       312\n",
      "\n",
      "Random Forest classification report\n",
      "              precision    recall  f1-score   support\n",
      "\n",
      "           0       0.81      0.69      0.74        78\n",
      "           1       0.68      0.81      0.74        78\n",
      "           2       0.73      0.68      0.70        78\n",
      "           3       0.85      0.86      0.85        78\n",
      "\n",
      "    accuracy                           0.76       312\n",
      "   macro avg       0.76      0.76      0.76       312\n",
      "weighted avg       0.76      0.76      0.76       312\n",
      "\n"
     ]
    }
   ],
   "source": [
    "import imblearn\n",
    "ecg = pd.read_csv('./processed_data/ecgNK.csv')\n",
    "gsr = pd.read_csv('./processed_data/gsrNK.csv')\n",
    "labels = pd.read_csv('./given_data/labels.csv')\n",
    "eyes = pd.read_csv('./given_data/eye.csv')\n",
    "#removing unnecessary columns from data and concatenating into one dataset\n",
    "ecg.drop(['HRV_ULF','HRV_VLF'],axis=1, inplace=True)\n",
    "#gsr.drop(['gfgb'], axis=1,inplace=True)\n",
    "\n",
    "#eyes = pd.read_csv('./given_data/eye.csv')\n",
    "dataset = pd.concat([ecg,gsr,eyes,labels], axis=1, join='inner').sort_index()\n",
    "dataset.dropna()\n",
    "X = dataset.drop('labels', axis=1)\n",
    "y = dataset['labels']\n",
    "\n",
    "min_max_scaler = preprocessing.MinMaxScaler()\n",
    "X = min_max_scaler.fit_transform(X)\n",
    "print(y.value_counts())\n",
    "clf = svm.SVC()\n",
    "y_pred = cross_val_predict(clf, X,y, cv=10)\n",
    "print(\"SVM classification report\")\n",
    "print(classification_report(y, y_pred))\n",
    "\n",
    "rfc = RandomForestClassifier(n_estimators=1000)\n",
    "y_pred = cross_val_predict(rfc, X,y, cv=10)\n",
    "print(\"Random Forest classification report\")\n",
    "print(classification_report(y, y_pred))"
   ],
   "metadata": {
    "collapsed": false,
    "pycharm": {
     "name": "#%%\n"
    }
   }
  },
  {
   "cell_type": "markdown",
   "source": [
    "Making all data into one dataset"
   ],
   "metadata": {
    "collapsed": false
   }
  },
  {
   "cell_type": "code",
   "execution_count": 18,
   "outputs": [
    {
     "name": "stdout",
     "output_type": "stream",
     "text": [
      "<bound method NDFrame.head of      ECG_Rate_Mean  HRV_RMSSD  HRV_MeanNN  HRV_SDNN  HRV_SDSD  HRV_CVNN  \\\n",
      "0         0.515688   0.127364    0.313733  0.264931  0.127198  0.311086   \n",
      "1         0.467098   0.043953    0.355907  0.102285  0.044035  0.118365   \n",
      "2         0.441128   0.122873    0.378374  0.217923  0.123036  0.241492   \n",
      "3         0.361428   0.089764    0.461467  0.180647  0.089873  0.185229   \n",
      "4         0.410926   0.029662    0.409727  0.093274  0.029631  0.101568   \n",
      "..             ...        ...         ...       ...       ...       ...   \n",
      "307       0.052933   0.787273    0.933618  0.891974  0.788730  0.669157   \n",
      "308       0.145602   0.414900    0.752627  0.765887  0.414997  0.640166   \n",
      "309       0.136766   0.234909    0.754929  0.385592  0.234907  0.316395   \n",
      "310       0.103315   0.161962    0.807995  0.253098  0.162764  0.195853   \n",
      "311       0.048989   0.080169    0.903683  0.066532  0.080730  0.036880   \n",
      "\n",
      "     HRV_CVSD  HRV_MedianNN  HRV_MadNN  HRV_MCVNN  ...        40        41  \\\n",
      "0    0.150417      0.312219   0.083791   0.122557  ...  0.686457  0.687503   \n",
      "1    0.050789      0.343703   0.067308   0.095074  ...  0.569852  0.146320   \n",
      "2    0.136519      0.381559   0.123626   0.162664  ...  0.738616  0.510868   \n",
      "3    0.092144      0.435532   0.093407   0.114790  ...  0.781848  0.544225   \n",
      "4    0.032080      0.388306   0.074176   0.097520  ...  0.798192  0.375535   \n",
      "..        ...           ...        ...        ...  ...       ...       ...   \n",
      "307  0.602787      1.000000   0.423077   0.339255  ...  0.821126  0.396095   \n",
      "308  0.350421      0.814093   0.203297   0.175323  ...  0.837699  0.649374   \n",
      "309  0.195322      0.720015   0.375000   0.365588  ...  0.734194  0.391277   \n",
      "310  0.127677      0.761244   0.179945   0.160633  ...  0.553660  0.529781   \n",
      "311  0.054817      0.824213   0.079670   0.055741  ...  0.052138  0.267435   \n",
      "\n",
      "           42        43        44        45        46        47        48  \\\n",
      "0    0.404912  0.635006  0.635388  0.544307  0.458727  0.557711  0.448327   \n",
      "1    0.992816  0.130832  0.449081  0.800869  0.540507  0.802618  0.707608   \n",
      "2    0.311570  0.377505  0.181879  0.246927  0.758964  0.221350  0.315564   \n",
      "3    0.409624  0.361386  0.395371  0.628641  0.184095  0.647833  0.337425   \n",
      "4    0.307947  0.377960  0.231725  0.435839  0.252762  0.404748  0.253774   \n",
      "..        ...       ...       ...       ...       ...       ...       ...   \n",
      "307  0.240033  0.541810  0.473030  0.540691  0.152988  0.366199  0.197084   \n",
      "308  0.522986  0.484940  0.498068  0.406487  0.744031  0.703351  0.718327   \n",
      "309  0.422758  0.152919  0.218489  0.519175  0.217396  0.571411  0.267201   \n",
      "310  0.759703  0.229516  0.514290  0.493349  0.693380  0.523489  0.460185   \n",
      "311  0.382071  0.432366  0.206858  0.139973  0.538609  0.385893  0.290370   \n",
      "\n",
      "     labels  \n",
      "0         1  \n",
      "1         0  \n",
      "2         0  \n",
      "3         3  \n",
      "4         1  \n",
      "..      ...  \n",
      "307       2  \n",
      "308       0  \n",
      "309       1  \n",
      "310       3  \n",
      "311       3  \n",
      "\n",
      "[312 rows x 114 columns]>\n"
     ]
    }
   ],
   "source": [
    "temp = dataset.drop('labels', axis=1)\n",
    "collabels = []\n",
    "for col in temp.columns:\n",
    "    collabels = collabels + [col]\n",
    "\n",
    "#print(collabels)\n",
    "\n",
    "completeData = pd.DataFrame(data=X,columns=collabels)\n",
    "labelData = pd.DataFrame({'labels':y})\n",
    "processedData = pd.concat([completeData,labelData],axis=1, join='inner')\n",
    "print(processedData.head)\n",
    "processedData.to_csv('processed_data/completeData.csv', index=False)"
   ],
   "metadata": {
    "collapsed": false,
    "pycharm": {
     "name": "#%%"
    }
   }
  },
  {
   "cell_type": "markdown",
   "source": [
    "using ML again to verify"
   ],
   "metadata": {
    "collapsed": false,
    "pycharm": {
     "name": "#%% md\n"
    }
   }
  },
  {
   "cell_type": "code",
   "execution_count": 21,
   "outputs": [
    {
     "name": "stdout",
     "output_type": "stream",
     "text": [
      "SVM classification report\n",
      "              precision    recall  f1-score   support\n",
      "\n",
      "           0       0.74      0.69      0.72        78\n",
      "           1       0.69      0.79      0.74        78\n",
      "           2       0.67      0.62      0.64        78\n",
      "           3       0.79      0.78      0.79        78\n",
      "\n",
      "    accuracy                           0.72       312\n",
      "   macro avg       0.72      0.72      0.72       312\n",
      "weighted avg       0.72      0.72      0.72       312\n",
      "\n",
      "Random Forest classification report\n",
      "              precision    recall  f1-score   support\n",
      "\n",
      "           0       0.87      0.68      0.76        78\n",
      "           1       0.68      0.79      0.73        78\n",
      "           2       0.73      0.72      0.72        78\n",
      "           3       0.84      0.90      0.87        78\n",
      "\n",
      "    accuracy                           0.77       312\n",
      "   macro avg       0.78      0.77      0.77       312\n",
      "weighted avg       0.78      0.77      0.77       312\n",
      "\n"
     ]
    }
   ],
   "source": [
    "data = pd.read_csv('./processed_data/completeData.csv')\n",
    "\n",
    "X = data.drop('labels', axis=1)\n",
    "y = data['labels']\n",
    "\n",
    "clf = svm.SVC()\n",
    "y_pred = cross_val_predict(clf, X,y, cv=10)\n",
    "print(\"SVM classification report\")\n",
    "print(classification_report(y, y_pred))\n",
    "\n",
    "rfc = RandomForestClassifier(n_estimators=1000)\n",
    "y_pred = cross_val_predict(rfc, X,y, cv=10)\n",
    "print(\"Random Forest classification report\")\n",
    "print(classification_report(y, y_pred))\n",
    "\n"
   ],
   "metadata": {
    "collapsed": false,
    "pycharm": {
     "name": "#%%\n"
    }
   }
  }
 ],
 "metadata": {
  "kernelspec": {
   "name": "pycharm-3d615333",
   "language": "python",
   "display_name": "PyCharm (Python On Dataset)"
  },
  "language_info": {
   "codemirror_mode": {
    "name": "ipython",
    "version": 3
   },
   "file_extension": ".py",
   "mimetype": "text/x-python",
   "name": "python",
   "nbconvert_exporter": "python",
   "pygments_lexer": "ipython3",
   "version": "3.9.1-final"
  }
 },
 "nbformat": 4,
 "nbformat_minor": 1
}