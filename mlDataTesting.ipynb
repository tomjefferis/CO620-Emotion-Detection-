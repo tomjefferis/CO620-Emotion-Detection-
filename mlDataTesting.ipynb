{
 "cells": [
  {
   "cell_type": "markdown",
   "metadata": {
    "pycharm": {
     "name": "#%% md\n"
    }
   },
   "source": [
    "Introduction to ML on my dataset"
   ]
  },
  {
   "cell_type": "code",
   "execution_count": 1,
   "metadata": {
    "pycharm": {
     "name": "#%%\n"
    }
   },
   "outputs": [
    {
     "name": "stdout",
     "output_type": "stream",
     "text": [
      "Thank you for using Pysiology. If you use it in your work, please cite:\n",
      "Gabrieli G., Azhari A., Esposito G. (2020) PySiology: A Python Package for Physiological Feature Extraction. In: Esposito A., Faundez-Zanuy M., Morabito F., Pasero E. (eds) Neural Approaches to Dynamics of Signal Exchanges. Smart Innovation, Systems and Technologies, vol 151. Springer, Singapore\n"
     ]
    }
   ],
   "source": [
    "\n",
    "import matplotlib\n",
    "import pysiology as pyd\n",
    "import seaborn as sns\n",
    "import pandas as pd\n",
    "from matplotlib import pyplot, gridspec\n",
    "import neurokit2 as nk2\n",
    "import matplotlib.pyplot as plt\n",
    "import statistics\n",
    "import heartpy as hp\n",
    "import numpy as np\n",
    "import scipy as sci\n",
    "from mpl_toolkits.mplot3d import Axes3D\n",
    "from pandas.plotting import scatter_matrix\n",
    "from sklearn import preprocessing, model_selection\n",
    "from sklearn.decomposition import PCA\n",
    "from sklearn.dummy import DummyClassifier\n",
    "from sklearn.manifold import TSNE\n",
    "from sklearn.metrics import classification_report\n",
    "from sklearn.model_selection import train_test_split, cross_val_predict, StratifiedKFold, cross_val_score\n",
    "from sklearn.preprocessing import StandardScaler\n",
    "from sklearn.datasets import make_moons, make_circles, make_classification\n",
    "from sklearn.neural_network import MLPClassifier\n",
    "from sklearn.neighbors import KNeighborsClassifier\n",
    "from sklearn.svm import SVC\n",
    "from sklearn.gaussian_process import GaussianProcessClassifier\n",
    "from sklearn.gaussian_process.kernels import RBF\n",
    "from sklearn.tree import DecisionTreeClassifier\n",
    "from sklearn.ensemble import RandomForestClassifier, AdaBoostClassifier\n",
    "from sklearn.naive_bayes import GaussianNB\n",
    "from sklearn.discriminant_analysis import QuadraticDiscriminantAnalysis\n",
    "from mlxtend.plotting import plot_decision_regions\n",
    "from sklearn.naive_bayes import BernoulliNB, GaussianNB\n",
    "from sklearn.neighbors import KNeighborsClassifier\n",
    "from sklearn.neural_network import MLPClassifier\n",
    "from sklearn.tree import DecisionTreeClassifier\n",
    "import performance_metrics"
   ]
  },
  {
   "cell_type": "markdown",
   "metadata": {},
   "source": [
    "importing and reading the head of the processed data given by Ryan"
   ]
  },
  {
   "cell_type": "code",
   "execution_count": 2,
   "metadata": {
    "pycharm": {
     "name": "#%%\n"
    }
   },
   "outputs": [
    {
     "data": {
      "text/plain": "      maxRR     minRR    meanRR  medianRR      mean  variance  \\\n0  3.283373 -3.153124 -0.691292 -0.473422 -0.887344 -0.852428   \n1 -0.530691  0.220757 -0.097092 -0.060457  1.728917  0.115263   \n2 -0.256929  0.437686  0.543713  0.614798 -0.219067 -0.241879   \n3  0.000886  0.828158  1.557349  1.368181  1.520551  0.954914   \n4 -0.153271  0.266695  0.508760  0.553411 -1.314357 -0.838620   \n\n   standard deviation  number of peaks  number of valleys       max       min  \\\n0           -1.101827        -1.146055          -1.211860 -0.971536  0.473535   \n1            0.413781         0.225144           0.150496  1.275972  1.869222   \n2            0.038038         0.613467           0.536314 -0.453982 -1.301779   \n3            1.091541         0.643759           0.566410  1.668803  0.274025   \n4           -1.044152        -0.255806          -0.327352 -1.237303 -0.186352   \n\n   ratio of peak to time  labels  \n0              -1.240391       1  \n1               0.439346       0  \n2               1.602390       0  \n3               0.478224       3  \n4              -0.860474       1  ",
      "text/html": "<div>\n<style scoped>\n    .dataframe tbody tr th:only-of-type {\n        vertical-align: middle;\n    }\n\n    .dataframe tbody tr th {\n        vertical-align: top;\n    }\n\n    .dataframe thead th {\n        text-align: right;\n    }\n</style>\n<table border=\"1\" class=\"dataframe\">\n  <thead>\n    <tr style=\"text-align: right;\">\n      <th></th>\n      <th>maxRR</th>\n      <th>minRR</th>\n      <th>meanRR</th>\n      <th>medianRR</th>\n      <th>mean</th>\n      <th>variance</th>\n      <th>standard deviation</th>\n      <th>number of peaks</th>\n      <th>number of valleys</th>\n      <th>max</th>\n      <th>min</th>\n      <th>ratio of peak to time</th>\n      <th>labels</th>\n    </tr>\n  </thead>\n  <tbody>\n    <tr>\n      <th>0</th>\n      <td>3.283373</td>\n      <td>-3.153124</td>\n      <td>-0.691292</td>\n      <td>-0.473422</td>\n      <td>-0.887344</td>\n      <td>-0.852428</td>\n      <td>-1.101827</td>\n      <td>-1.146055</td>\n      <td>-1.211860</td>\n      <td>-0.971536</td>\n      <td>0.473535</td>\n      <td>-1.240391</td>\n      <td>1</td>\n    </tr>\n    <tr>\n      <th>1</th>\n      <td>-0.530691</td>\n      <td>0.220757</td>\n      <td>-0.097092</td>\n      <td>-0.060457</td>\n      <td>1.728917</td>\n      <td>0.115263</td>\n      <td>0.413781</td>\n      <td>0.225144</td>\n      <td>0.150496</td>\n      <td>1.275972</td>\n      <td>1.869222</td>\n      <td>0.439346</td>\n      <td>0</td>\n    </tr>\n    <tr>\n      <th>2</th>\n      <td>-0.256929</td>\n      <td>0.437686</td>\n      <td>0.543713</td>\n      <td>0.614798</td>\n      <td>-0.219067</td>\n      <td>-0.241879</td>\n      <td>0.038038</td>\n      <td>0.613467</td>\n      <td>0.536314</td>\n      <td>-0.453982</td>\n      <td>-1.301779</td>\n      <td>1.602390</td>\n      <td>0</td>\n    </tr>\n    <tr>\n      <th>3</th>\n      <td>0.000886</td>\n      <td>0.828158</td>\n      <td>1.557349</td>\n      <td>1.368181</td>\n      <td>1.520551</td>\n      <td>0.954914</td>\n      <td>1.091541</td>\n      <td>0.643759</td>\n      <td>0.566410</td>\n      <td>1.668803</td>\n      <td>0.274025</td>\n      <td>0.478224</td>\n      <td>3</td>\n    </tr>\n    <tr>\n      <th>4</th>\n      <td>-0.153271</td>\n      <td>0.266695</td>\n      <td>0.508760</td>\n      <td>0.553411</td>\n      <td>-1.314357</td>\n      <td>-0.838620</td>\n      <td>-1.044152</td>\n      <td>-0.255806</td>\n      <td>-0.327352</td>\n      <td>-1.237303</td>\n      <td>-0.186352</td>\n      <td>-0.860474</td>\n      <td>1</td>\n    </tr>\n  </tbody>\n</table>\n</div>"
     },
     "execution_count": 2,
     "metadata": {},
     "output_type": "execute_result"
    }
   ],
   "source": [
    "from tensorflow.python.feature_column import feature_column\n",
    "ecg = pd.read_csv('./given_data/ecg.csv')\n",
    "gsr = pd.read_csv('./given_data/gsr.csv')\n",
    "labels = pd.read_csv('./given_data/labels.csv')\n",
    "\n",
    "#removing unnecessary columns from data and concatenating into one dataset\n",
    "\n",
    "gsr.drop(['gfgb'], axis=1,inplace=True)\n",
    "ecg = ecg[['maxRR','minRR','meanRR','medianRR']]\n",
    "\n",
    "dataset = pd.concat([ecg,gsr,labels], axis=1, join='inner').sort_index()\n",
    "dataset.dropna()\n",
    "dataset.head()\n"
   ]
  },
  {
   "cell_type": "markdown",
   "metadata": {},
   "source": [
    "Looking at the ecg plots"
   ]
  },
  {
   "cell_type": "code",
   "execution_count": 3,
   "metadata": {
    "pycharm": {
     "name": "#%%\n"
    }
   },
   "outputs": [
    {
     "data": {
      "text/plain": "<Figure size 432x288 with 21 Axes>",
      "image/png": "[encoded data removed]"
     },
     "metadata": {
      "needs_background": "light"
     },
     "output_type": "display_data"
    }
   ],
   "source": [
    "ecg.plot(kind='box', subplots=True, layout=(3,7), sharex=False, sharey=False)\n",
    "pyplot.show()"
   ]
  },
  {
   "cell_type": "markdown",
   "metadata": {},
   "source": [
    "Looking at the gsr plots"
   ]
  },
  {
   "cell_type": "code",
   "execution_count": 4,
   "metadata": {
    "pycharm": {
     "name": "#%%\n"
    }
   },
   "outputs": [
    {
     "data": {
      "text/plain": "<Figure size 432x288 with 21 Axes>",
      "image/png": "[encoded data removed]"
     },
     "metadata": {
      "needs_background": "light"
     },
     "output_type": "display_data"
    }
   ],
   "source": [
    "gsr.plot(kind='box', subplots=True, layout=(3,7), sharex=False, sharey=False)\n",
    "pyplot.show()"
   ]
  },
  {
   "cell_type": "markdown",
   "metadata": {},
   "source": [
    "Now looking for dataset"
   ]
  },
  {
   "cell_type": "code",
   "execution_count": 5,
   "metadata": {
    "pycharm": {
     "name": "#%%\n"
    }
   },
   "outputs": [],
   "source": [
    "X = dataset.drop('labels', axis=1)\n",
    "y = dataset['labels']"
   ]
  },
  {
   "cell_type": "markdown",
   "metadata": {},
   "source": [
    "Random Forest"
   ]
  },
  {
   "cell_type": "code",
   "execution_count": 6,
   "metadata": {
    "pycharm": {
     "name": "#%%\n"
    }
   },
   "outputs": [
    {
     "name": "stdout",
     "output_type": "stream",
     "text": [
      "              precision    recall  f1-score   support\n",
      "\n",
      "           0       0.57      0.59      0.58        78\n",
      "           1       0.61      0.69      0.65        78\n",
      "           2       0.61      0.50      0.55        78\n",
      "           3       0.73      0.74      0.74        78\n",
      "\n",
      "    accuracy                           0.63       312\n",
      "   macro avg       0.63      0.63      0.63       312\n",
      "weighted avg       0.63      0.63      0.63       312\n",
      "\n"
     ]
    },
    {
     "data": {
      "text/plain": "<Figure size 432x288 with 2 Axes>",
      "image/png": "[encoded data removed]"
     },
     "metadata": {
      "needs_background": "light"
     },
     "output_type": "display_data"
    }
   ],
   "source": [
    "tsne_results  = TSNE(n_components=2).fit_transform(X)\n",
    "df_subset = pd.DataFrame()\n",
    "\n",
    "df_subset['tsne-2d-one'] = tsne_results[:,0]\n",
    "df_subset['tsne-2d-two'] = tsne_results[:,1]\n",
    "df_subset['tsne-2d-lab'] = y\n",
    "\n",
    "fig, axs = plt.subplots(1,2)\n",
    "colors = ['red','green','blue','yellow']\n",
    "axs[0].scatter(df_subset['tsne-2d-one'],df_subset['tsne-2d-two'],c=y,cmap=matplotlib.colors.ListedColormap(colors))\n",
    "\n",
    "rfc = RandomForestClassifier(n_estimators=200)\n",
    "y_pred = cross_val_predict(rfc, X,y, cv=10)\n",
    "print(classification_report(y, y_pred))\n",
    "\n",
    "# create meshgrid\n",
    "resolution = 100 # 100x100 background pixels\n",
    "X2d_xmin, X2d_xmax = np.min(tsne_results[:,0]), np.max(tsne_results[:,0])\n",
    "X2d_ymin, X2d_ymax = np.min(tsne_results[:,1]), np.max(tsne_results[:,1])\n",
    "xx, yy = np.meshgrid(np.linspace(X2d_xmin, X2d_xmax, resolution), np.linspace(X2d_ymin, X2d_ymax, resolution))\n",
    "\n",
    "# approximate Voronoi tesselation on resolution x resolution grid using 1-NN\n",
    "background_model = KNeighborsClassifier(n_neighbors=1).fit(tsne_results, y_pred)\n",
    "voronoiBackground = background_model.predict(np.c_[xx.ravel(), yy.ravel()])\n",
    "voronoiBackground = voronoiBackground.reshape((resolution, resolution))\n",
    "\n",
    "#plot\n",
    "axs[1].contourf(xx, yy, voronoiBackground,cmap=matplotlib.colors.ListedColormap(colors),alpha = 0.8)\n",
    "axs[1].scatter(tsne_results[:,0], tsne_results[:,1], c=y,cmap=matplotlib.colors.ListedColormap(colors),alpha = 0.4)\n",
    "plt.show()"
   ]
  },
  {
   "cell_type": "markdown",
   "metadata": {},
   "source": [
    "SVM"
   ]
  },
  {
   "cell_type": "code",
   "execution_count": 7,
   "metadata": {
    "pycharm": {
     "name": "#%%\n"
    }
   },
   "outputs": [
    {
     "name": "stdout",
     "output_type": "stream",
     "text": [
      "              precision    recall  f1-score   support\n",
      "\n",
      "           0       0.48      0.50      0.49        78\n",
      "           1       0.53      0.58      0.55        78\n",
      "           2       0.46      0.47      0.47        78\n",
      "           3       0.75      0.63      0.69        78\n",
      "\n",
      "    accuracy                           0.54       312\n",
      "   macro avg       0.56      0.54      0.55       312\n",
      "weighted avg       0.56      0.54      0.55       312\n",
      "\n"
     ]
    }
   ],
   "source": [
    "clf = SVC()\n",
    "y_pred = cross_val_predict(clf, X,y, cv=10)\n",
    "print(classification_report(y, y_pred))\n"
   ]
  },
  {
   "cell_type": "markdown",
   "metadata": {},
   "source": [
    "Now doing both Random Forest and SVM but now with the eye tracking data provided"
   ]
  },
  {
   "cell_type": "code",
   "execution_count": 8,
   "metadata": {
    "pycharm": {
     "name": "#%%\n"
    }
   },
   "outputs": [
    {
     "name": "stdout",
     "output_type": "stream",
     "text": [
      "SVM classification report\n",
      "              precision    recall  f1-score   support\n",
      "\n",
      "           0       0.73      0.69      0.71        78\n",
      "           1       0.71      0.77      0.74        78\n",
      "           2       0.71      0.73      0.72        78\n",
      "           3       0.78      0.74      0.76        78\n",
      "\n",
      "    accuracy                           0.73       312\n",
      "   macro avg       0.74      0.73      0.73       312\n",
      "weighted avg       0.74      0.73      0.73       312\n",
      "\n",
      "Random Forest classification report\n",
      "              precision    recall  f1-score   support\n",
      "\n",
      "           0       0.80      0.73      0.77        78\n",
      "           1       0.72      0.77      0.75        78\n",
      "           2       0.71      0.71      0.71        78\n",
      "           3       0.79      0.81      0.80        78\n",
      "\n",
      "    accuracy                           0.75       312\n",
      "   macro avg       0.75      0.75      0.75       312\n",
      "weighted avg       0.75      0.75      0.75       312\n",
      "\n"
     ]
    }
   ],
   "source": [
    "ecg = pd.read_csv('./given_data/ecg.csv')\n",
    "gsr = pd.read_csv('./given_data/gsr.csv')\n",
    "labels = pd.read_csv('./given_data/labels.csv')\n",
    "\n",
    "#removing unnecessary columns from data and concatenating into one dataset\n",
    "\n",
    "gsr.drop(['gfgb'], axis=1,inplace=True)\n",
    "ecg = ecg[['maxRR','minRR','meanRR','medianRR']]\n",
    "eyes = pd.read_csv('./given_data/eye.csv')\n",
    "dataset = pd.concat([ecg,gsr,eyes,labels], axis=1, join='inner').sort_index()\n",
    "dataset.dropna()\n",
    "X = dataset.drop('labels', axis=1)\n",
    "y = dataset['labels']\n",
    "\n",
    "\n",
    "clf = SVC()\n",
    "y_pred = cross_val_predict(clf, X,y, cv=10)\n",
    "print(\"SVM classification report\")\n",
    "print(classification_report(y, y_pred))\n",
    "\n",
    "rfc = RandomForestClassifier(n_estimators=200)\n",
    "y_pred = cross_val_predict(rfc, X,y, cv=10)\n",
    "print(\"Random Forest classification report\")\n",
    "print(classification_report(y, y_pred))\n"
   ]
  },
  {
   "cell_type": "markdown",
   "metadata": {
    "pycharm": {
     "name": "#%% md\n"
    }
   },
   "source": [
    "Now importing classes to process own raw data\n"
   ]
  },
  {
   "cell_type": "code",
   "execution_count": 9,
   "metadata": {},
   "outputs": [
    {
     "name": "stdout",
     "output_type": "stream",
     "text": [
      "Completed:312 lables, 312 ECG inputs, 312 GSR inputs\n"
     ]
    }
   ],
   "source": [
    "import pickle \n",
    "import os\n",
    "from os import listdir\n",
    "\n",
    "data = []\n",
    "# Getting all the files in the data directory\n",
    "files = os.listdir(\"./raw_data/ecg-gsr-labels/\")\n",
    "removed = ['101_PreProcessed_GSR_ECG.dat', '102_PreProcessed_GSR_ECG.dat', '103_PreProcessed_GSR_ECG.dat', '115_PreProcessed_GSR_ECG.dat', '118_PreProcessed_GSR_ECG.dat', '121_PreProcessed_GSR_ECG.dat', '119_PreProcessed_GSR_ECG.dat', '130_PreProcessed_GSR_ECG.dat']\n",
    "\n",
    "for item in removed:\n",
    "    files.remove(item)\n",
    "\n",
    "for i in range(len(files)):\n",
    "    infile = open(\"./raw_data/ecg-gsr-labels/\" + files[i],'rb')\n",
    "    data.append(pickle.load(infile))\n",
    "    infile.close()\n",
    "\n",
    "# Extracting all data (labels, ecg and gsr data) into seperate arrays.\n",
    "\n",
    "completeLabels = []\n",
    "completeEcg = []\n",
    "completeGsr = []\n",
    "\n",
    "# Iterate over all files\n",
    "for i in range(len(data)):\n",
    "    del data[i]['Data'][0]\n",
    "    del data[i]['Labels'][0]\n",
    "    features = data[i]['Data']\n",
    "    labels = data[i]['Labels']\n",
    "    #Iterate over all examples in file\n",
    "    for x in range(len(labels)):\n",
    "        completeLabels.append(labels[x])\n",
    "        completeEcg.append(features[x][:][:,1])\n",
    "        completeGsr.append(features[x][:][:,0])\n",
    "\n",
    "\n",
    "labelslen = len(completeLabels)\n",
    "ecglen = len(completeEcg)\n",
    "gsrlen = len(completeGsr)\n",
    "print(f\"Completed:{labelslen} lables, {ecglen} ECG inputs, {gsrlen} GSR inputs\")"
   ]
  },
  {
   "cell_type": "markdown",
   "metadata": {
    "pycharm": {
     "name": "#%% md\n"
    }
   },
   "source": [
    "Using NeuroKit to extract data points\n"
   ]
  },
  {
   "cell_type": "code",
   "execution_count": 10,
   "metadata": {
    "pycharm": {
     "name": "#%%\n"
    }
   },
   "outputs": [
    {
     "ename": "KeyboardInterrupt",
     "evalue": "",
     "output_type": "error",
     "traceback": [
      "\u001B[1;31m---------------------------------------------------------------------------\u001B[0m",
      "\u001B[1;31mKeyboardInterrupt\u001B[0m                         Traceback (most recent call last)",
      "\u001B[1;32m<ipython-input-10-429cc58c344e>\u001B[0m in \u001B[0;36m<module>\u001B[1;34m\u001B[0m\n\u001B[0;32m      7\u001B[0m \u001B[1;33m\u001B[0m\u001B[0m\n\u001B[0;32m      8\u001B[0m \u001B[0msig\u001B[0m \u001B[1;33m=\u001B[0m \u001B[0mhp\u001B[0m\u001B[1;33m.\u001B[0m\u001B[0mfilter_signal\u001B[0m\u001B[1;33m(\u001B[0m\u001B[0marr\u001B[0m\u001B[1;33m,\u001B[0m \u001B[1;36m10\u001B[0m\u001B[1;33m,\u001B[0m \u001B[0msamplerate\u001B[0m\u001B[1;33m)\u001B[0m\u001B[1;31m#filter the signal with a cutoff at 2.5Hz and a 5th order Butterworth filter\u001B[0m\u001B[1;33m\u001B[0m\u001B[1;33m\u001B[0m\u001B[0m\n\u001B[1;32m----> 9\u001B[1;33m \u001B[0mecg_signals\u001B[0m\u001B[1;33m,\u001B[0m \u001B[0minfo\u001B[0m \u001B[1;33m=\u001B[0m \u001B[0mnk2\u001B[0m\u001B[1;33m.\u001B[0m\u001B[0mecg_process\u001B[0m\u001B[1;33m(\u001B[0m\u001B[0msig\u001B[0m\u001B[1;33m,\u001B[0m \u001B[0msampling_rate\u001B[0m\u001B[1;33m=\u001B[0m\u001B[1;36m1000\u001B[0m\u001B[1;33m)\u001B[0m\u001B[1;33m\u001B[0m\u001B[1;33m\u001B[0m\u001B[0m\n\u001B[0m\u001B[0;32m     10\u001B[0m \u001B[0mplot\u001B[0m \u001B[1;33m=\u001B[0m \u001B[0mnk2\u001B[0m\u001B[1;33m.\u001B[0m\u001B[0mecg_plot\u001B[0m\u001B[1;33m(\u001B[0m\u001B[0mecg_signals\u001B[0m\u001B[1;33m[\u001B[0m\u001B[1;33m:\u001B[0m\u001B[1;36m15000\u001B[0m\u001B[1;33m]\u001B[0m\u001B[1;33m,\u001B[0m \u001B[0msampling_rate\u001B[0m\u001B[1;33m=\u001B[0m\u001B[1;36m1000\u001B[0m\u001B[1;33m)\u001B[0m\u001B[1;33m\u001B[0m\u001B[1;33m\u001B[0m\u001B[0m\n\u001B[0;32m     11\u001B[0m      \u001B[1;31m#extracts processes the raw ecg signals\u001B[0m\u001B[1;33m\u001B[0m\u001B[1;33m\u001B[0m\u001B[1;33m\u001B[0m\u001B[0m\n",
      "\u001B[1;32mc:\\users\\tomje\\appdata\\local\\programs\\python\\python38\\lib\\site-packages\\neurokit2\\ecg\\ecg_process.py\u001B[0m in \u001B[0;36mecg_process\u001B[1;34m(ecg_signal, sampling_rate, method)\u001B[0m\n\u001B[0;32m    110\u001B[0m     )\n\u001B[0;32m    111\u001B[0m \u001B[1;33m\u001B[0m\u001B[0m\n\u001B[1;32m--> 112\u001B[1;33m     \u001B[0mcardiac_phase\u001B[0m \u001B[1;33m=\u001B[0m \u001B[0mecg_phase\u001B[0m\u001B[1;33m(\u001B[0m\u001B[0mecg_cleaned\u001B[0m\u001B[1;33m=\u001B[0m\u001B[0mecg_cleaned\u001B[0m\u001B[1;33m,\u001B[0m \u001B[0mrpeaks\u001B[0m\u001B[1;33m=\u001B[0m\u001B[0mrpeaks\u001B[0m\u001B[1;33m,\u001B[0m \u001B[0mdelineate_info\u001B[0m\u001B[1;33m=\u001B[0m\u001B[0mdelineate_info\u001B[0m\u001B[1;33m)\u001B[0m\u001B[1;33m\u001B[0m\u001B[1;33m\u001B[0m\u001B[0m\n\u001B[0m\u001B[0;32m    113\u001B[0m \u001B[1;33m\u001B[0m\u001B[0m\n\u001B[0;32m    114\u001B[0m     \u001B[0msignals\u001B[0m \u001B[1;33m=\u001B[0m \u001B[0mpd\u001B[0m\u001B[1;33m.\u001B[0m\u001B[0mconcat\u001B[0m\u001B[1;33m(\u001B[0m\u001B[1;33m[\u001B[0m\u001B[0msignals\u001B[0m\u001B[1;33m,\u001B[0m \u001B[0minstant_peaks\u001B[0m\u001B[1;33m,\u001B[0m \u001B[0mdelineate_signal\u001B[0m\u001B[1;33m,\u001B[0m \u001B[0mcardiac_phase\u001B[0m\u001B[1;33m]\u001B[0m\u001B[1;33m,\u001B[0m \u001B[0maxis\u001B[0m\u001B[1;33m=\u001B[0m\u001B[1;36m1\u001B[0m\u001B[1;33m)\u001B[0m\u001B[1;33m\u001B[0m\u001B[1;33m\u001B[0m\u001B[0m\n",
      "\u001B[1;32mc:\\users\\tomje\\appdata\\local\\programs\\python\\python38\\lib\\site-packages\\neurokit2\\ecg\\ecg_phase.py\u001B[0m in \u001B[0;36mecg_phase\u001B[1;34m(ecg_cleaned, rpeaks, delineate_info, sampling_rate)\u001B[0m\n\u001B[0;32m     95\u001B[0m \u001B[1;33m\u001B[0m\u001B[0m\n\u001B[0;32m     96\u001B[0m     \u001B[1;31m# Atrial Phase Completion\u001B[0m\u001B[1;33m\u001B[0m\u001B[1;33m\u001B[0m\u001B[1;33m\u001B[0m\u001B[0m\n\u001B[1;32m---> 97\u001B[1;33m     \u001B[0matrial_completion\u001B[0m \u001B[1;33m=\u001B[0m \u001B[0msignal_phase\u001B[0m\u001B[1;33m(\u001B[0m\u001B[0matrial\u001B[0m\u001B[1;33m,\u001B[0m \u001B[0mmethod\u001B[0m\u001B[1;33m=\u001B[0m\u001B[1;34m\"percent\"\u001B[0m\u001B[1;33m)\u001B[0m\u001B[1;33m\u001B[0m\u001B[1;33m\u001B[0m\u001B[0m\n\u001B[0m\u001B[0;32m     98\u001B[0m \u001B[1;33m\u001B[0m\u001B[0m\n\u001B[0;32m     99\u001B[0m     \u001B[1;31m# Ventricular Phase\u001B[0m\u001B[1;33m\u001B[0m\u001B[1;33m\u001B[0m\u001B[1;33m\u001B[0m\u001B[0m\n",
      "\u001B[1;32mc:\\users\\tomje\\appdata\\local\\programs\\python\\python38\\lib\\site-packages\\neurokit2\\signal\\signal_phase.py\u001B[0m in \u001B[0;36msignal_phase\u001B[1;34m(signal, method)\u001B[0m\n\u001B[0;32m     52\u001B[0m     \u001B[1;31m# If binary signal\u001B[0m\u001B[1;33m\u001B[0m\u001B[1;33m\u001B[0m\u001B[1;33m\u001B[0m\u001B[0m\n\u001B[0;32m     53\u001B[0m     \u001B[1;32mif\u001B[0m \u001B[0mlen\u001B[0m\u001B[1;33m(\u001B[0m\u001B[0mset\u001B[0m\u001B[1;33m(\u001B[0m\u001B[0mnp\u001B[0m\u001B[1;33m.\u001B[0m\u001B[0marray\u001B[0m\u001B[1;33m(\u001B[0m\u001B[0msignal\u001B[0m\u001B[1;33m)\u001B[0m\u001B[1;33m[\u001B[0m\u001B[1;33m~\u001B[0m\u001B[0mnp\u001B[0m\u001B[1;33m.\u001B[0m\u001B[0misnan\u001B[0m\u001B[1;33m(\u001B[0m\u001B[0mnp\u001B[0m\u001B[1;33m.\u001B[0m\u001B[0marray\u001B[0m\u001B[1;33m(\u001B[0m\u001B[0msignal\u001B[0m\u001B[1;33m)\u001B[0m\u001B[1;33m)\u001B[0m\u001B[1;33m]\u001B[0m\u001B[1;33m)\u001B[0m\u001B[1;33m)\u001B[0m \u001B[1;33m==\u001B[0m \u001B[1;36m2\u001B[0m\u001B[1;33m:\u001B[0m\u001B[1;33m\u001B[0m\u001B[1;33m\u001B[0m\u001B[0m\n\u001B[1;32m---> 54\u001B[1;33m         \u001B[0mphase\u001B[0m \u001B[1;33m=\u001B[0m \u001B[0m_signal_phase_binary\u001B[0m\u001B[1;33m(\u001B[0m\u001B[0msignal\u001B[0m\u001B[1;33m)\u001B[0m\u001B[1;33m\u001B[0m\u001B[1;33m\u001B[0m\u001B[0m\n\u001B[0m\u001B[0;32m     55\u001B[0m     \u001B[1;32melse\u001B[0m\u001B[1;33m:\u001B[0m\u001B[1;33m\u001B[0m\u001B[1;33m\u001B[0m\u001B[0m\n\u001B[0;32m     56\u001B[0m         \u001B[0mphase\u001B[0m \u001B[1;33m=\u001B[0m \u001B[0m_signal_phase_prophase\u001B[0m\u001B[1;33m(\u001B[0m\u001B[0msignal\u001B[0m\u001B[1;33m)\u001B[0m\u001B[1;33m\u001B[0m\u001B[1;33m\u001B[0m\u001B[0m\n",
      "\u001B[1;32mc:\\users\\tomje\\appdata\\local\\programs\\python\\python38\\lib\\site-packages\\neurokit2\\signal\\signal_phase.py\u001B[0m in \u001B[0;36m_signal_phase_binary\u001B[1;34m(signal)\u001B[0m\n\u001B[0;32m     69\u001B[0m \u001B[1;33m\u001B[0m\u001B[0m\n\u001B[0;32m     70\u001B[0m     \u001B[0mphase\u001B[0m \u001B[1;33m=\u001B[0m \u001B[0mitertools\u001B[0m\u001B[1;33m.\u001B[0m\u001B[0mchain\u001B[0m\u001B[1;33m.\u001B[0m\u001B[0mfrom_iterable\u001B[0m\u001B[1;33m(\u001B[0m\u001B[0mnp\u001B[0m\u001B[1;33m.\u001B[0m\u001B[0mlinspace\u001B[0m\u001B[1;33m(\u001B[0m\u001B[1;36m0\u001B[0m\u001B[1;33m,\u001B[0m \u001B[1;36m1\u001B[0m\u001B[1;33m,\u001B[0m \u001B[0msum\u001B[0m\u001B[1;33m(\u001B[0m\u001B[1;33m[\u001B[0m\u001B[1;36m1\u001B[0m \u001B[1;32mfor\u001B[0m \u001B[0mi\u001B[0m \u001B[1;32min\u001B[0m \u001B[0mv\u001B[0m\u001B[1;33m]\u001B[0m\u001B[1;33m)\u001B[0m\u001B[1;33m)\u001B[0m \u001B[1;32mfor\u001B[0m \u001B[0m_\u001B[0m\u001B[1;33m,\u001B[0m \u001B[0mv\u001B[0m \u001B[1;32min\u001B[0m \u001B[0mitertools\u001B[0m\u001B[1;33m.\u001B[0m\u001B[0mgroupby\u001B[0m\u001B[1;33m(\u001B[0m\u001B[0msignal\u001B[0m\u001B[1;33m)\u001B[0m\u001B[1;33m)\u001B[0m\u001B[1;33m\u001B[0m\u001B[1;33m\u001B[0m\u001B[0m\n\u001B[1;32m---> 71\u001B[1;33m     \u001B[0mphase\u001B[0m \u001B[1;33m=\u001B[0m \u001B[0mnp\u001B[0m\u001B[1;33m.\u001B[0m\u001B[0marray\u001B[0m\u001B[1;33m(\u001B[0m\u001B[0mlist\u001B[0m\u001B[1;33m(\u001B[0m\u001B[0mphase\u001B[0m\u001B[1;33m)\u001B[0m\u001B[1;33m)\u001B[0m\u001B[1;33m\u001B[0m\u001B[1;33m\u001B[0m\u001B[0m\n\u001B[0m\u001B[0;32m     72\u001B[0m \u001B[1;33m\u001B[0m\u001B[0m\n\u001B[0;32m     73\u001B[0m     \u001B[1;31m# Convert to radiant\u001B[0m\u001B[1;33m\u001B[0m\u001B[1;33m\u001B[0m\u001B[1;33m\u001B[0m\u001B[0m\n",
      "\u001B[1;32mc:\\users\\tomje\\appdata\\local\\programs\\python\\python38\\lib\\site-packages\\neurokit2\\signal\\signal_phase.py\u001B[0m in \u001B[0;36m<genexpr>\u001B[1;34m(.0)\u001B[0m\n\u001B[0;32m     68\u001B[0m \u001B[1;32mdef\u001B[0m \u001B[0m_signal_phase_binary\u001B[0m\u001B[1;33m(\u001B[0m\u001B[0msignal\u001B[0m\u001B[1;33m)\u001B[0m\u001B[1;33m:\u001B[0m\u001B[1;33m\u001B[0m\u001B[1;33m\u001B[0m\u001B[0m\n\u001B[0;32m     69\u001B[0m \u001B[1;33m\u001B[0m\u001B[0m\n\u001B[1;32m---> 70\u001B[1;33m     \u001B[0mphase\u001B[0m \u001B[1;33m=\u001B[0m \u001B[0mitertools\u001B[0m\u001B[1;33m.\u001B[0m\u001B[0mchain\u001B[0m\u001B[1;33m.\u001B[0m\u001B[0mfrom_iterable\u001B[0m\u001B[1;33m(\u001B[0m\u001B[0mnp\u001B[0m\u001B[1;33m.\u001B[0m\u001B[0mlinspace\u001B[0m\u001B[1;33m(\u001B[0m\u001B[1;36m0\u001B[0m\u001B[1;33m,\u001B[0m \u001B[1;36m1\u001B[0m\u001B[1;33m,\u001B[0m \u001B[0msum\u001B[0m\u001B[1;33m(\u001B[0m\u001B[1;33m[\u001B[0m\u001B[1;36m1\u001B[0m \u001B[1;32mfor\u001B[0m \u001B[0mi\u001B[0m \u001B[1;32min\u001B[0m \u001B[0mv\u001B[0m\u001B[1;33m]\u001B[0m\u001B[1;33m)\u001B[0m\u001B[1;33m)\u001B[0m \u001B[1;32mfor\u001B[0m \u001B[0m_\u001B[0m\u001B[1;33m,\u001B[0m \u001B[0mv\u001B[0m \u001B[1;32min\u001B[0m \u001B[0mitertools\u001B[0m\u001B[1;33m.\u001B[0m\u001B[0mgroupby\u001B[0m\u001B[1;33m(\u001B[0m\u001B[0msignal\u001B[0m\u001B[1;33m)\u001B[0m\u001B[1;33m)\u001B[0m\u001B[1;33m\u001B[0m\u001B[1;33m\u001B[0m\u001B[0m\n\u001B[0m\u001B[0;32m     71\u001B[0m     \u001B[0mphase\u001B[0m \u001B[1;33m=\u001B[0m \u001B[0mnp\u001B[0m\u001B[1;33m.\u001B[0m\u001B[0marray\u001B[0m\u001B[1;33m(\u001B[0m\u001B[0mlist\u001B[0m\u001B[1;33m(\u001B[0m\u001B[0mphase\u001B[0m\u001B[1;33m)\u001B[0m\u001B[1;33m)\u001B[0m\u001B[1;33m\u001B[0m\u001B[1;33m\u001B[0m\u001B[0m\n\u001B[0;32m     72\u001B[0m \u001B[1;33m\u001B[0m\u001B[0m\n",
      "\u001B[1;32m<__array_function__ internals>\u001B[0m in \u001B[0;36mlinspace\u001B[1;34m(*args, **kwargs)\u001B[0m\n",
      "\u001B[1;32mc:\\users\\tomje\\appdata\\local\\programs\\python\\python38\\lib\\site-packages\\numpy\\core\\function_base.py\u001B[0m in \u001B[0;36mlinspace\u001B[1;34m(start, stop, num, endpoint, retstep, dtype, axis)\u001B[0m\n\u001B[0;32m    152\u001B[0m         \u001B[0my\u001B[0m \u001B[1;33m=\u001B[0m \u001B[0my\u001B[0m \u001B[1;33m*\u001B[0m \u001B[0mdelta\u001B[0m\u001B[1;33m\u001B[0m\u001B[1;33m\u001B[0m\u001B[0m\n\u001B[0;32m    153\u001B[0m \u001B[1;33m\u001B[0m\u001B[0m\n\u001B[1;32m--> 154\u001B[1;33m     \u001B[0my\u001B[0m \u001B[1;33m+=\u001B[0m \u001B[0mstart\u001B[0m\u001B[1;33m\u001B[0m\u001B[1;33m\u001B[0m\u001B[0m\n\u001B[0m\u001B[0;32m    155\u001B[0m \u001B[1;33m\u001B[0m\u001B[0m\n\u001B[0;32m    156\u001B[0m     \u001B[1;32mif\u001B[0m \u001B[0mendpoint\u001B[0m \u001B[1;32mand\u001B[0m \u001B[0mnum\u001B[0m \u001B[1;33m>\u001B[0m \u001B[1;36m1\u001B[0m\u001B[1;33m:\u001B[0m\u001B[1;33m\u001B[0m\u001B[1;33m\u001B[0m\u001B[0m\n",
      "\u001B[1;31mKeyboardInterrupt\u001B[0m: "
     ]
    }
   ],
   "source": [
    "plt.rcParams['figure.figsize'] = [15, 9]  # Bigger images\n",
    "plt.rcParams['font.size']= 13\n",
    "\n",
    "\n",
    "arr = completeEcg[5]\n",
    "samplerate = 1000\n",
    "\n",
    "sig = hp.filter_signal(arr, 10, samplerate)#filter the signal with a cutoff at 2.5Hz and a 5th order Butterworth filter\n",
    "ecg_signals, info = nk2.ecg_process(sig, sampling_rate=1000)\n",
    "plot = nk2.ecg_plot(ecg_signals[:15000], sampling_rate=1000)\n",
    "     #extracts processes the raw ecg signals\n",
    "compecgdata = nk2.ecg_intervalrelated(ecg_signals, sampling_rate=1000)# makes a dataframe of analyzed ECG features\n",
    "print(compecgdata)\n",
    "    # Process the signal using previously defined function\n",
    "    #plot = nk.ecg_plot(processed_ecg[:30000], sampling_rate=1000)\n",
    "    #print(compecgdata)\n",
    "    # Visualize\n",
    "    #plot = nk.ecg_plot(compecgdata)\n"
   ]
  },
  {
   "cell_type": "code",
   "execution_count": null,
   "metadata": {
    "pycharm": {
     "name": "#%%\n"
    }
   },
   "outputs": [],
   "source": [
    "plt.rcParams['figure.figsize'] = [15, 9]  # Bigger images\n",
    "plt.rcParams['font.size']= 13\n",
    "\n",
    "def nkExtractECG(signal,samplerate):\n",
    "    cleaned = nk2.ecg_clean(signal,sampling_rate=samplerate)\n",
    "    processed, info = nk2.ecg_process(cleaned,sampling_rate=samplerate)\n",
    "    compECG = nk2.ecg_intervalrelated(processed)\n",
    "    return compECG\n",
    "\n",
    "def extractECGfeatures(samplerate):\n",
    "    print(\"started ECG extraction\")\n",
    "    # Preprocess the data (filter, find peaks, etc.)\n",
    "    completeFrame = pd.DataFrame([])\n",
    "\n",
    "    for index, ecg in enumerate(completeEcg): #loops through all 312 data items from the extracted items\n",
    "        tems = nkExtractECG(ecg,samplerate)\n",
    "        #temp = pd.DataFrame([tems])\n",
    "        completeFrame = pd.concat([completeFrame,tems])\n",
    "    #completeFrame.drop(completeFrame.columns[0], axis=1,inplace=True) #removes first empty column\n",
    "    completeFrame.to_csv('processed_data/ecgNK.csv')\n",
    "    print(\"Completed ECG extraction\")\n",
    "\n",
    "\n",
    "def extractGSR(signal,samplerate):\n",
    "    signal = hp.filter_signal(signal, 0.1, 1000)\n",
    "    processed_gsr,infos = nk2.eda_process(signal,sampling_rate=samplerate) #processes the GSR, currently only doing one item to make sure it works properly\n",
    "    #plot = nk2.eda_plot(processed_gsr[:30000], sampling_rate=1000) #plots the signal on a graph\n",
    "\n",
    "    gsr_dict = nk2.eda_findpeaks(processed_gsr)#finding peaks, time of the peaks and magnitude of peaks\n",
    "\n",
    "    numpeakssci = len(sci.signal.find_peaks(signal)[0])/len(signal)\n",
    "    numvalleys = len(sci.signal.find_peaks(signal*(-1))[0])/len(signal)\n",
    "\n",
    "    peaktime = gsr_dict['SCR_Peaks'] #time of peaks\n",
    "    numpeaks = len(peaktime)/len(signal) #number of peaks\n",
    "    timebetween = []\n",
    "    lastPeak = 0\n",
    "    for peaks in peaktime: # going through all the peaks in the exrtacted data\n",
    "        if lastPeak != 0:\n",
    "            timebetween.append(peaks-lastPeak) #finding the time between the peaks\n",
    "        else:\n",
    "            lastPeak = peaks\n",
    "\n",
    "    if len(timebetween) >= 1:\n",
    "        meantbpeaks = statistics.mean(timebetween) #mean time between peaks\n",
    "        mediantbpeaks = statistics.median(timebetween) # median time between peaks\n",
    "        meanheightpeaks = statistics.mean(gsr_dict['SCR_Height']) #mean magnitide of peaks\n",
    "        medianheightpeaks = statistics.median(gsr_dict['SCR_Height']) #median magnitide of peaks\n",
    "        varheightpeaks = statistics.variance(gsr_dict['SCR_Height']) #variance magnitide of peaks\n",
    "    elif len(gsr_dict['SCR_Height']) >= 1:\n",
    "        meantbpeaks = 0 #mean time between peaks\n",
    "        mediantbpeaks = 0 # median time between peaks\n",
    "        meanheightpeaks = statistics.mean(gsr_dict['SCR_Height']) #mean magnitide of peaks\n",
    "        medianheightpeaks = statistics.median(gsr_dict['SCR_Height']) #median magnitide of peaks\n",
    "        if len(gsr_dict['SCR_Height']) >= 2:\n",
    "            varheightpeaks = statistics.variance(gsr_dict['SCR_Height']) #variance magnitide of peaks\n",
    "        else:\n",
    "            varheightpeaks = 0\n",
    "    else:\n",
    "        meantbpeaks = 0 #mean time between peaks\n",
    "        mediantbpeaks = 0 # median time between peaks\n",
    "        meanheightpeaks = 0 #mean magnitide of peaks\n",
    "        medianheightpeaks = 0 #median magnitide of peaks\n",
    "        varheightpeaks = 0 #variance magnitide of peaks\n",
    "\n",
    "    maxGSR = max(signal)\n",
    "    minGSR = min(signal)\n",
    "    meanGSR = statistics.mean(signal)\n",
    "    peakratio = 0\n",
    "    if numpeaks>0: peakratio = numpeaks/len(signal)\n",
    "    valleyratio =0\n",
    "    if numvalleys>0: valleyratio = numvalleys/len(signal)\n",
    "\n",
    "    d = {'max GSR': maxGSR,\n",
    "         'min GSR': minGSR,\n",
    "         'mean GSR': meanGSR,\n",
    "         'number of peaks':numpeaks,\n",
    "         'number of peaks SCIPY': numpeakssci,\n",
    "         'number of valleys': numvalleys,\n",
    "         'mean time between peaks':meantbpeaks,\n",
    "         'median time between peaks':mediantbpeaks,\n",
    "         'mean height of peaks': meanheightpeaks,\n",
    "         'median height of peaks': medianheightpeaks,\n",
    "         'variance height of peaks': varheightpeaks,\n",
    "         'ratio of peaks': peakratio,\n",
    "         'ratio of valleys': valleyratio}\n",
    "    #adding to dataframe to be stored as csv later\n",
    "    return pd.DataFrame([d])\n",
    "\n",
    "def extractGSRfeatures(samplerate):\n",
    "    print(\"started GSR extraction\")\n",
    "     # Preprocess the data (filter, find peaks, etc.)\n",
    "    completeFrame = pd.DataFrame([])\n",
    "\n",
    "    for index, gsr in enumerate(completeGsr): #loops through all 398 data items from the extracted items\n",
    "\n",
    "        temp = extractGSR(gsr,samplerate)\n",
    "        completeFrame = pd.concat([completeFrame,temp])\n",
    "    #completeFrame.drop(completeFrame.columns[0], axis=1,inplace=True) #removes first empty column\n",
    "    completeFrame.to_csv('processed_data/gsrNK.csv')\n",
    "    print(\"Completed GSR extraction\")\n",
    "\n",
    "\n",
    "\n",
    "\n",
    "\n",
    "samplerate = 1000\n",
    "#extractGSRfeatures(samplerate)\n",
    "#extractECGfeatures(samplerate)"
   ]
  },
  {
   "cell_type": "markdown",
   "metadata": {
    "pycharm": {
     "name": "#%% md\n"
    }
   },
   "source": [
    "Using ScikitLearn to process my data into a single dataset"
   ]
  },
  {
   "cell_type": "code",
   "execution_count": null,
   "metadata": {
    "pycharm": {
     "name": "#%%\n"
    }
   },
   "outputs": [],
   "source": [
    "ecg = pd.read_csv('./processed_data/ecgNK.csv')\n",
    "gsr = pd.read_csv('./processed_data/gsrNK.csv')\n",
    "labels = pd.read_csv('./given_data/labels.csv')\n",
    "eyes = pd.read_csv('./given_data/eye.csv')\n",
    "#removing unnecessary columns from data and concatenating into one dataset\n",
    "ecg.drop(['HRV_ULF','HRV_VLF'],axis=1, inplace=True)\n",
    "#gsr.drop(['gfgb'], axis=1,inplace=True)\n",
    "\n",
    "#eyes = pd.read_csv('./given_data/eye.csv')\n",
    "dataset = pd.concat([ecg,gsr,eyes,labels], axis=1, join='inner').sort_index()\n",
    "dataset.dropna()\n",
    "dataset.to_csv('processed_data/completeDataNS.csv', index=False)\n",
    "X = dataset.drop('labels', axis=1)\n",
    "y = dataset['labels']\n",
    "\n",
    "min_max_scaler = preprocessing.MinMaxScaler()\n",
    "X = min_max_scaler.fit_transform(X)\n",
    "#print(y.value_counts())\n",
    "clf = SVC()\n",
    "y_pred = cross_val_predict(clf, X,y, cv=10)\n",
    "print(\"SVM classification report\")\n",
    "print(classification_report(y, y_pred))\n",
    "\n",
    "rfc = RandomForestClassifier(n_estimators=200)\n",
    "y_pred = cross_val_predict(rfc, X,y, cv=10)\n",
    "print(\"Random Forest classification report\")\n",
    "print(classification_report(y, y_pred))"
   ]
  },
  {
   "cell_type": "markdown",
   "metadata": {},
   "source": [
    "Making all data into one dataset"
   ]
  },
  {
   "cell_type": "code",
   "execution_count": null,
   "metadata": {
    "pycharm": {
     "name": "#%%"
    }
   },
   "outputs": [],
   "source": [
    "temp = dataset.drop('labels', axis=1)\n",
    "collabels = []\n",
    "for col in temp.columns:\n",
    "    collabels = collabels + [col]\n",
    "\n",
    "#print(collabels)\n",
    "\n",
    "completeData = pd.DataFrame(data=X,columns=collabels)\n",
    "labelData = pd.DataFrame({'labels':y})\n",
    "processedData = pd.concat([completeData,labelData],axis=1, join='inner')\n",
    "#print(processedData.head)\n",
    "processedData.to_csv('processed_data/completeData.csv', index=False)"
   ]
  },
  {
   "cell_type": "markdown",
   "metadata": {
    "pycharm": {
     "name": "#%% md\n"
    }
   },
   "source": [
    "using ML again to verify"
   ]
  },
  {
   "cell_type": "code",
   "execution_count": null,
   "metadata": {
    "pycharm": {
     "name": "#%%\n"
    }
   },
   "outputs": [],
   "source": [
    "data = pd.read_csv('./processed_data/completeDatanoeye.csv')\n",
    "\n",
    "X = data.drop('labels', axis=1)\n",
    "y = data['labels']\n",
    "\n",
    "tsne_results  = TSNE(n_components=2).fit_transform(X)\n",
    "df_subset = pd.DataFrame()\n",
    "\n",
    "df_subset['tsne-2d-one'] = tsne_results[:,0]\n",
    "df_subset['tsne-2d-two'] = tsne_results[:,1]\n",
    "df_subset['tsne-2d-lab'] = y\n",
    "\n",
    "fig, axs = plt.subplots(1,2)\n",
    "\n",
    "plt.figure(figsize=(16,10))\n",
    "colors = ['red','green','blue','yellow']\n",
    "axs[0].scatter(df_subset['tsne-2d-one'],df_subset['tsne-2d-two'],c=y,cmap=matplotlib.colors.ListedColormap(colors))\n",
    "\n",
    "#x = df_subset.drop(['tsne-2d-lab'],axis=1)\n",
    "\n",
    "rfc = RandomForestClassifier()\n",
    "y_pred = cross_val_predict(rfc, x,y, cv=10)\n",
    "print(\"Random Forest classification report\")\n",
    "print(classification_report(y, y_pred))\n",
    "\n",
    "\n",
    "# create meshgrid\n",
    "resolution = 100 # 100x100 background pixels\n",
    "X2d_xmin, X2d_xmax = np.min(tsne_results[:,0]), np.max(tsne_results[:,0])\n",
    "X2d_ymin, X2d_ymax = np.min(tsne_results[:,1]), np.max(tsne_results[:,1])\n",
    "xx, yy = np.meshgrid(np.linspace(X2d_xmin, X2d_xmax, resolution), np.linspace(X2d_ymin, X2d_ymax, resolution))\n",
    "\n",
    "# approximate Voronoi tesselation on resolution x resolution grid using 1-NN\n",
    "background_model = KNeighborsClassifier(n_neighbors=1).fit(tsne_results, y_pred)\n",
    "voronoiBackground = background_model.predict(np.c_[xx.ravel(), yy.ravel()])\n",
    "voronoiBackground = voronoiBackground.reshape((resolution, resolution))\n",
    "\n",
    "#plot\n",
    "axs[1].contourf(xx, yy, voronoiBackground,cmap=matplotlib.colors.ListedColormap(colors),alpha = 0.8)\n",
    "axs[1].scatter(tsne_results[:,0], tsne_results[:,1], c=y,cmap=matplotlib.colors.ListedColormap(colors),alpha = 0.4)\n",
    "plt.show()"
   ]
  },
  {
   "cell_type": "code",
   "execution_count": null,
   "outputs": [],
   "source": [
    "data = pd.read_csv('./processed_data/completeData.csv')\n",
    "X = data.drop('labels', axis=1)\n",
    "y = data['labels']\n",
    "scoring = ['accuracy', 'precision_weighted', 'recall_weighted', 'f1_weighted']\n",
    "\n",
    "X_train, X_test, y_train, y_test = train_test_split(X, y, test_size=0.2, random_state=1)\n",
    "\n",
    "\n",
    "\n",
    "tsne_results  = TSNE(n_components=2).fit_transform(X_train)\n",
    "df_subset = pd.DataFrame()\n",
    "\n",
    "df_subset['tsne-2d-one'] = tsne_results[:,0]\n",
    "df_subset['tsne-2d-two'] = tsne_results[:,1]\n",
    "df_subset['tsne-2d-lab'] = y_train\n",
    "\n",
    "plt.rcParams[\"figure.figsize\"] = [16,9]\n",
    "fig, axs = plt.subplots(11,figsize=(30,40))\n",
    "\n",
    "\n",
    "colors = ['red','green','blue','yellow']\n",
    "axs[10].scatter(df_subset['tsne-2d-one'],df_subset['tsne-2d-two'],c=y_train,cmap=matplotlib.colors.ListedColormap(colors))\n",
    "axs[10].set_title(\"TSNE Data\")\n",
    "\n",
    "\n",
    "\n",
    "# Modeling step Test differents algorithms\n",
    "classifiers =   [(\"AdaBoost\",AdaBoostClassifier()),\n",
    "                (\"RFC\",RandomForestClassifier()),\n",
    "                (\"KNN\",KNeighborsClassifier(3)),\n",
    "                (\"Linear SVC\", SVC(kernel=\"linear\", C=0.025)),\n",
    "                (\"SVC\",SVC()),\n",
    "                (\"GPC\",GaussianProcessClassifier(1.0 * RBF(1.0))),\n",
    "                (\"DTC\",DecisionTreeClassifier(max_depth=5)),\n",
    "                (\"MLP\",MLPClassifier(alpha=1, max_iter=1000)),\n",
    "                (\"NB\",GaussianNB()),\n",
    "                (\"QDA\",QuadraticDiscriminantAnalysis())]\n",
    "\n",
    "results = []\n",
    "names = []\n",
    "dfs = []\n",
    "report = pd.DataFrame()\n",
    "for index, data in enumerate(classifiers) :\n",
    "    name = data[0]\n",
    "    model = data[1]\n",
    "    kfold = model_selection.KFold(n_splits=5, shuffle=True, random_state=90210)\n",
    "    cv_results = model_selection.cross_validate(model, X_train, y_train, cv=kfold, scoring=scoring)\n",
    "    clf = model.fit(X_train, y_train)\n",
    "    y_pred = clf.predict(X_test)\n",
    "    y_mod = clf.predict(X_train)\n",
    "    #print(f\"{names[model]} classification report\")\n",
    "    cr = classification_report(y_test, y_pred,output_dict=True)\n",
    "    cr[\"name\"] = name\n",
    "    report = pd.concat([report,pd.DataFrame(cr)])\n",
    "    results.append(cv_results)\n",
    "    names.append(name)\n",
    "    this_df = pd.DataFrame(cv_results)\n",
    "    this_df['model'] = name\n",
    "    dfs.append(this_df)\n",
    "    final = pd.concat(dfs, ignore_index=True)\n",
    "    #results.append([name,cr])\n",
    "    # create meshgrid\n",
    "    resolution = 400 # 100x100 background pixels\n",
    "    X2d_xmin, X2d_xmax = np.min(tsne_results[:,0]), np.max(tsne_results[:,0])\n",
    "    X2d_ymin, X2d_ymax = np.min(tsne_results[:,1]), np.max(tsne_results[:,1])\n",
    "    xx, yy = np.meshgrid(np.linspace(X2d_xmin, X2d_xmax, resolution), np.linspace(X2d_ymin, X2d_ymax, resolution))\n",
    "\n",
    "    # approximate Voronoi tesselation on resolution x resolution grid using 1-NN\n",
    "    background_model = KNeighborsClassifier(n_neighbors=1).fit(tsne_results, y_mod)\n",
    "    voronoiBackground = background_model.predict(np.c_[xx.ravel(), yy.ravel()])\n",
    "    voronoiBackground = voronoiBackground.reshape((resolution, resolution))\n",
    "\n",
    "    #plot\n",
    "    axs[index].contourf(xx, yy, voronoiBackground,cmap=matplotlib.colors.ListedColormap(colors),alpha = 0.8)\n",
    "    axs[index].scatter(tsne_results[:,0], tsne_results[:,1], c=y_train,cmap=matplotlib.colors.ListedColormap(colors),alpha = 0.4)\n",
    "    axs[index].set_title(name)\n",
    "\n",
    "\n",
    "\n",
    "#print(x)\n",
    "\n",
    "fig = plt.gcf()\n",
    "gs = gridspec.GridSpec(4,3)\n",
    "for i in range(3):\n",
    "    for j in range(4):\n",
    "        k = i+j*3\n",
    "        if k < len(axs):\n",
    "            axs[k].set_position(gs[k].get_position(fig))\n",
    "\n",
    "\n",
    "fig.savefig('./results/visual_classifier_decisions.png',dpi=400)\n",
    "fig.show()\n",
    "x = performance_metrics.run_exps(final)\n",
    "report.to_csv(\"./results/report.csv\")"
   ],
   "metadata": {
    "collapsed": false,
    "pycharm": {
     "name": "#%%\n"
    }
   }
  },
  {
   "cell_type": "markdown",
   "source": [
    "Here we see the classifiers report"
   ],
   "metadata": {
    "collapsed": false
   }
  },
  {
   "cell_type": "code",
   "execution_count": null,
   "outputs": [],
   "source": [
    "data = pd.read_csv('./processed_data/meganoNan.csv')\n",
    "\n",
    "X = data.drop('label.1', axis=1)\n",
    "y = data['label.1']\n",
    "\n",
    "\n",
    "rfc = RandomForestClassifier()\n",
    "y_pred = cross_val_predict(rfc, x,y, cv=10)\n",
    "print(\"Random Forest classification report\")\n",
    "print(classification_report(y, y_pred))"
   ],
   "metadata": {
    "collapsed": false,
    "pycharm": {
     "name": "#%%\n"
    }
   }
  },
  {
   "cell_type": "code",
   "execution_count": null,
   "outputs": [],
   "source": [
    "import  tensorflow as tf\n",
    "from tensorflow import keras\n",
    "from sklearn import preprocessing\n",
    "\n",
    "\n",
    "data = pd.read_csv('./processed_data/completeData.csv')\n",
    "X = data.drop('labels', axis=1)\n",
    "y = data['labels']\n",
    "\n",
    "#X_train, X_test, y_train, y_test = train_test_split(X, y, test_size=0.2)\n",
    "\n",
    "scaler = preprocessing.StandardScaler().fit(X)\n",
    "X_train = scaler.transform(X)\n",
    "\n",
    "data = pd.concat([X,y],axis=1)\n",
    "\n",
    "train, test = train_test_split(data, test_size=0.2)\n",
    "\n",
    "# A utility method to create a tf.data dataset from a Pandas Dataframe\n",
    "def df_to_dataset(dataframe, shuffle=True, batch_size=32):\n",
    "  dataframe = dataframe.copy()\n",
    "  labels = dataframe.pop('labels')\n",
    "  ds = tf.data.Dataset.from_tensor_slices((dict(dataframe), labels))\n",
    "  if shuffle:\n",
    "    ds = ds.shuffle(buffer_size=len(dataframe))\n",
    "  ds = ds.batch(batch_size)\n",
    "  return ds\n",
    "\n",
    "batch_size = 16\n",
    "train_ds = df_to_dataset(train, batch_size=batch_size)\n",
    "test_ds = df_to_dataset(test, shuffle=False, batch_size=batch_size)\n",
    "\n",
    "for feature_batch, label_batch in train_ds.take(1):\n",
    "  print('Every feature:', list(feature_batch.keys()))\n",
    "  print('A batch of targets:', label_batch )"
   ],
   "metadata": {
    "collapsed": false,
    "pycharm": {
     "name": "#%%\n"
    }
   }
  },
  {
   "cell_type": "code",
   "execution_count": null,
   "outputs": [],
   "source": [
    "from tensorflow import feature_column\n",
    "from tensorflow.keras import layers\n",
    "\n",
    "features = list(X.columns.values)\n",
    "feature_columns = []\n",
    "feature_layer_inputs = {}\n",
    "for item in features:\n",
    "    feature_columns.append(feature_column.numeric_column(item))\n",
    "    feature_layer_inputs[item] = tf.keras.Input(shape=(1,), name=item)\n",
    "\n",
    "feature_layer = tf.keras.layers.DenseFeatures(feature_columns)\n",
    "\n",
    "\n",
    "feature_layer_outputs = feature_layer(feature_layer_inputs)\n",
    "\n",
    "model = tf.keras.Sequential([\n",
    "  feature_layer,\n",
    "  layers.Dense(128, activation='relu'),\n",
    "  layers.Dense(128, activation='relu'),\n",
    "  layers.Dropout(.1),\n",
    "  layers.Dense(1)\n",
    "])\n",
    "\n",
    "model.compile(optimizer='adam',\n",
    "              loss=tf.keras.losses.BinaryCrossentropy(from_logits=True),\n",
    "              metrics=['accuracy'])\n",
    "\n",
    "model.fit(train_ds,\n",
    "          validation_data=test_ds,\n",
    "          epochs=100)\n",
    "\n",
    "\n"
   ],
   "metadata": {
    "collapsed": false,
    "pycharm": {
     "name": "#%%\n"
    }
   }
  },
  {
   "cell_type": "markdown",
   "source": [
    "So as we can see here this model suffers from over-fitting \"maybe\" limitations of the data but can investigate further"
   ],
   "metadata": {
    "collapsed": false
   }
  },
  {
   "cell_type": "code",
   "execution_count": null,
   "outputs": [],
   "source": [],
   "metadata": {
    "collapsed": false,
    "pycharm": {
     "name": "#%%\n"
    }
   }
  }
 ],
 "metadata": {
  "kernelspec": {
   "name": "python",
   "language": "python",
   "display_name": "python3.8"
  },
  "language_info": {
   "codemirror_mode": {
    "name": "ipython",
    "version": 3
   },
   "file_extension": ".py",
   "mimetype": "text/x-python",
   "name": "python",
   "nbconvert_exporter": "python",
   "pygments_lexer": "ipython3",
   "version": "3.8.6"
  }
 },
 "nbformat": 4,
 "nbformat_minor": 1
}